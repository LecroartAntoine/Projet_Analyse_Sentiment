{
 "cells": [
  {
   "cell_type": "markdown",
   "id": "4a922cec",
   "metadata": {},
   "source": [
    "# Projet 7 : Réalisez une analyse de sentiments grâce au Deep Learning\n",
    "# Modèle sur mesure avancé\n",
    "\n",
    "[Lien OpenClassroom](https://openclassrooms.com/fr/paths/795/projects/1516/1578-mission)\n",
    "\n",
    "---"
   ]
  },
  {
   "cell_type": "markdown",
   "id": "52dd283f",
   "metadata": {},
   "source": [
    "**Table of contents**<a id='toc0_'></a>    \n",
    "- [Imports](#toc1_)    \n",
    "- [Chargement des données](#toc2_)    \n",
    "- [Préparation pour Deep Leanring](#toc3_)    \n",
    "  - [Création d'un Tokenizer](#toc3_1_)    \n",
    "  - [Sauvegarde du Tokenizer](#toc3_2_)    \n",
    "  - [Chargement de GloVe Embeddings](#toc3_3_)    \n",
    "  - [Création du modèle](#toc3_4_)    \n",
    "- [Experiment 1: LSTM avec GloVe Embeddings](#toc4_)    \n",
    "  - [MLFlow Setup](#toc4_1_)    \n",
    "  - [Entrainement du modèle avec MLFlow](#toc4_2_)    \n",
    "- [Experiment 2: LSTM avec GloVe Embeddings (Entrainable)](#toc5_)    \n",
    "  - [Entrainement du modèle avec MLFlow](#toc5_1_)    \n",
    "- [Evaluation et Selection](#toc6_)    \n",
    "  - [Selection du meilleur modèle (val_accuracy)](#toc6_1_)    \n",
    "  - [Evaluation du modèle sur les données de Test](#toc6_2_)    \n",
    "  - [Enregistrement du model](#toc6_3_)    \n",
    "- [Dashboard MLFlow](#toc7_)    \n",
    "\n",
    "<!-- vscode-jupyter-toc-config\n",
    "\tnumbering=false\n",
    "\tanchor=true\n",
    "\tflat=false\n",
    "\tminLevel=2\n",
    "\tmaxLevel=6\n",
    "\t/vscode-jupyter-toc-config -->\n",
    "<!-- THIS CELL WILL BE REPLACED ON TOC UPDATE. DO NOT WRITE YOUR TEXT IN THIS CELL -->"
   ]
  },
  {
   "cell_type": "markdown",
   "id": "ba565f7c",
   "metadata": {},
   "source": [
    "---\n",
    "---\n",
    "\n",
    "## <a id='toc1_'></a>[Imports](#toc0_)"
   ]
  },
  {
   "cell_type": "code",
   "execution_count": null,
   "id": "1df1d88e",
   "metadata": {},
   "outputs": [],
   "source": [
    "import pandas as pd\n",
    "import numpy as np\n",
    "import tensorflow as tf\n",
    "from tensorflow.keras.preprocessing.text import Tokenizer\n",
    "from tensorflow.keras.preprocessing.sequence import pad_sequences\n",
    "from tensorflow.keras.layers import (\n",
    "    LSTM,\n",
    "    Dense,\n",
    "    Dropout,\n",
    "    Embedding,\n",
    "    Bidirectional,\n",
    "    Input,\n",
    "    SpatialDropout1D,\n",
    ")\n",
    "from tensorflow.keras.models import Sequential\n",
    "from tensorflow.keras.callbacks import EarlyStopping\n",
    "from sklearn.metrics import (\n",
    "    accuracy_score,\n",
    "    precision_score,\n",
    "    recall_score,\n",
    "    f1_score,\n",
    "    classification_report,\n",
    "    confusion_matrix,\n",
    ")\n",
    "import mlflow\n",
    "import mlflow.tensorflow  # Essential for autologging\n",
    "import pickle  # For saving the tokenizer\n",
    "import re\n",
    "import matplotlib.pyplot as plt\n",
    "import seaborn as sns\n",
    "import warnings\n",
    "import os\n",
    "import traceback\n",
    "\n",
    "warnings.filterwarnings(\"ignore\")\n",
    "tf.get_logger().setLevel(\"ERROR\")"
   ]
  },
  {
   "cell_type": "markdown",
   "id": "567d9ded",
   "metadata": {},
   "source": [
    "---\n",
    "---\n",
    "\n",
    "## <a id='toc2_'></a>[Chargement des données](#toc0_)"
   ]
  },
  {
   "cell_type": "code",
   "execution_count": 2,
   "id": "3f48e53b",
   "metadata": {},
   "outputs": [
    {
     "name": "stdout",
     "output_type": "stream",
     "text": [
      "Data loaded successfully:\n",
      "Train samples: 1114106\n",
      "Validation samples: 238737\n",
      "Test samples: 238738\n"
     ]
    }
   ],
   "source": [
    "TRAIN_DATA_PATH = \"./train_data.csv\"\n",
    "VAL_DATA_PATH = \"./validation_data.csv\"\n",
    "TEST_DATA_PATH = \"./test_data.csv\"\n",
    "\n",
    "train_df = pd.read_csv(TRAIN_DATA_PATH)\n",
    "val_df = pd.read_csv(VAL_DATA_PATH)\n",
    "test_df = pd.read_csv(TEST_DATA_PATH)\n",
    "\n",
    "# Handle potential NaN values in 'cleaned_text' that might result from preprocessing\n",
    "train_df[\"cleaned_text\"].fillna(\"\", inplace=True)\n",
    "val_df[\"cleaned_text\"].fillna(\"\", inplace=True)\n",
    "test_df[\"cleaned_text\"].fillna(\"\", inplace=True)\n",
    "\n",
    "\n",
    "X_train = train_df[\"cleaned_text\"]\n",
    "y_train = train_df[\"sentiment\"].replace({\"negative\": 0, \"positive\": 1}).astype(int)\n",
    "X_val = val_df[\"cleaned_text\"]\n",
    "y_val = val_df[\"sentiment\"].replace({\"negative\": 0, \"positive\": 1}).astype(int)\n",
    "X_test = test_df[\"cleaned_text\"]\n",
    "y_test = test_df[\"sentiment\"].replace({\"negative\": 0, \"positive\": 1}).astype(int)\n",
    "\n",
    "print(\"Data loaded successfully:\")\n",
    "print(f\"Train samples: {len(X_train)}\")\n",
    "print(f\"Validation samples: {len(X_val)}\")\n",
    "print(f\"Test samples: {len(X_test)}\")"
   ]
  },
  {
   "cell_type": "markdown",
   "id": "db2df5a0",
   "metadata": {},
   "source": [
    "---\n",
    "---\n",
    "\n",
    "## <a id='toc3_'></a>[Préparation pour Deep Leanring](#toc0_)"
   ]
  },
  {
   "cell_type": "markdown",
   "id": "fc072c67",
   "metadata": {},
   "source": [
    "---\n",
    "\n",
    "### <a id='toc3_1_'></a>[Création d'un Tokenizer](#toc0_)"
   ]
  },
  {
   "cell_type": "code",
   "execution_count": 3,
   "id": "1754d1d7",
   "metadata": {},
   "outputs": [
    {
     "name": "stdout",
     "output_type": "stream",
     "text": [
      "Actual vocabulary size used: 200\n",
      "Shape of padded training sequences: (1114106, 20)\n",
      "Shape of padded validation sequences: (238737, 20)\n",
      "Shape of padded test sequences: (238738, 20)\n"
     ]
    }
   ],
   "source": [
    "VOCAB_SIZE = 200\n",
    "MAX_SEQUENCE_LENGTH = 20\n",
    "\n",
    "tokenizer = Tokenizer(\n",
    "    num_words=VOCAB_SIZE, oov_token=\"<OOV>\"\n",
    ")  # OOV token for out-of-vocabulary words\n",
    "\n",
    "# Fit the tokenizer ONLY on the training data\n",
    "tokenizer.fit_on_texts(X_train)\n",
    "\n",
    "# Convert text data to sequences of integers\n",
    "X_train_seq = tokenizer.texts_to_sequences(X_train)\n",
    "X_val_seq = tokenizer.texts_to_sequences(X_val)\n",
    "X_test_seq = tokenizer.texts_to_sequences(X_test)\n",
    "\n",
    "# Pad sequences to ensure uniform length\n",
    "X_train_pad = pad_sequences(\n",
    "    X_train_seq, maxlen=MAX_SEQUENCE_LENGTH, padding=\"post\", truncating=\"post\"\n",
    ")\n",
    "X_val_pad = pad_sequences(\n",
    "    X_val_seq, maxlen=MAX_SEQUENCE_LENGTH, padding=\"post\", truncating=\"post\"\n",
    ")\n",
    "X_test_pad = pad_sequences(\n",
    "    X_test_seq, maxlen=MAX_SEQUENCE_LENGTH, padding=\"post\", truncating=\"post\"\n",
    ")\n",
    "\n",
    "# Vocabulary size for the embedding layer (add 1 for the padding token 0)\n",
    "# Use min to handle cases where actual vocab is smaller than VOCAB_SIZE\n",
    "actual_vocab_size = min(VOCAB_SIZE, len(tokenizer.word_index) + 1)\n",
    "print(f\"Actual vocabulary size used: {actual_vocab_size}\")\n",
    "print(f\"Shape of padded training sequences: {X_train_pad.shape}\")\n",
    "print(f\"Shape of padded validation sequences: {X_val_pad.shape}\")\n",
    "print(f\"Shape of padded test sequences: {X_test_pad.shape}\")"
   ]
  },
  {
   "cell_type": "markdown",
   "id": "4051a7ee",
   "metadata": {},
   "source": [
    "---\n",
    "\n",
    "### <a id='toc3_2_'></a>[Sauvegarde du Tokenizer](#toc0_)"
   ]
  },
  {
   "cell_type": "code",
   "execution_count": 4,
   "id": "b8433580",
   "metadata": {},
   "outputs": [],
   "source": [
    "with open(\"keras_tokenizer.pkl\", \"wb\") as f:\n",
    "    pickle.dump(tokenizer, f)"
   ]
  },
  {
   "cell_type": "markdown",
   "id": "98d12db0",
   "metadata": {},
   "source": [
    "---\n",
    "\n",
    "### <a id='toc3_3_'></a>[Chargement de GloVe Embeddings](#toc0_)"
   ]
  },
  {
   "cell_type": "code",
   "execution_count": 7,
   "id": "142412d1",
   "metadata": {},
   "outputs": [
    {
     "name": "stdout",
     "output_type": "stream",
     "text": [
      "Found 400001 word vectors in ./glove.6B.300d.txt.\n",
      "Creating embedding matrix...\n",
      "Converted 198 words (1 misses)\n",
      "Shape of embedding matrix: (200, 300)\n"
     ]
    }
   ],
   "source": [
    "GLOVE_PATH = \"./glove.6B.300d.txt\"\n",
    "EMBEDDING_DIM = 300\n",
    "\n",
    "embeddings_index = {}\n",
    "try:\n",
    "    with open(GLOVE_PATH, encoding=\"utf-8\") as f:\n",
    "        for line in f:\n",
    "            values = line.split()\n",
    "            word = values[0]\n",
    "            coefs = np.asarray(values[1:], dtype=\"float32\")\n",
    "            embeddings_index[word] = coefs\n",
    "    print(f\"Found {len(embeddings_index)} word vectors in {GLOVE_PATH}.\")\n",
    "except FileNotFoundError:\n",
    "    print(f\"Error: GloVe file not found at {GLOVE_PATH}\")\n",
    "    print(\"Skipping GloVe experiment.\")\n",
    "    embeddings_index = None  # Ensure variable exists but is None\n",
    "except Exception as e:\n",
    "    print(f\"An error occurred loading GloVe file: {e}\")\n",
    "    embeddings_index = None\n",
    "\n",
    "embedding_matrix = None\n",
    "if embeddings_index:\n",
    "    print(\"Creating embedding matrix...\")\n",
    "    # Initialize matrix with zeros\n",
    "    embedding_matrix = np.zeros((actual_vocab_size, EMBEDDING_DIM))\n",
    "    hits = 0\n",
    "    misses = 0\n",
    "    # Populate the matrix with GloVe vectors for words in our tokenizer's vocabulary\n",
    "    for word, i in tokenizer.word_index.items():\n",
    "        if i >= actual_vocab_size:  # Skip words beyond our vocab size limit\n",
    "            continue\n",
    "        embedding_vector = embeddings_index.get(word)\n",
    "        if embedding_vector is not None:\n",
    "            # Words not found in embedding index will be all-zeros.\n",
    "            embedding_matrix[i] = embedding_vector\n",
    "            hits += 1\n",
    "        else:\n",
    "            misses += 1\n",
    "    print(f\"Converted {hits} words ({misses} misses)\")\n",
    "    print(f\"Shape of embedding matrix: {embedding_matrix.shape}\")"
   ]
  },
  {
   "cell_type": "markdown",
   "id": "be8f0a0a",
   "metadata": {},
   "source": [
    "---\n",
    "\n",
    "### <a id='toc3_4_'></a>[Création du modèle](#toc0_)"
   ]
  },
  {
   "cell_type": "code",
   "execution_count": null,
   "id": "b53c9f41",
   "metadata": {},
   "outputs": [],
   "source": [
    "def build_lstm_model(\n",
    "    vocab_size,\n",
    "    embedding_dim,\n",
    "    max_length,\n",
    "    lstm_units,\n",
    "    learning_rate,\n",
    "    dropout_rate,\n",
    "    embedding_matrix=None,\n",
    "    is_embedding_trainable=False,\n",
    "):\n",
    "\n",
    "    model = Sequential()\n",
    "\n",
    "    model.add(Input(shape=(max_length,)))\n",
    "\n",
    "    if embedding_matrix is not None:\n",
    "        print(\"Using pre-trained embedding matrix.\")\n",
    "        model.add(\n",
    "            Embedding(\n",
    "                input_dim=vocab_size,\n",
    "                output_dim=embedding_dim,\n",
    "                weights=[embedding_matrix],\n",
    "                input_length=max_length,\n",
    "                trainable=is_embedding_trainable,\n",
    "            )\n",
    "        )\n",
    "    else:\n",
    "        print(\"Using trainable embedding layer.\")\n",
    "        model.add(\n",
    "            Embedding(\n",
    "                input_dim=vocab_size,\n",
    "                output_dim=embedding_dim,\n",
    "                input_length=max_length,\n",
    "                trainable=is_embedding_trainable,\n",
    "            )\n",
    "        )\n",
    "\n",
    "    model.add(SpatialDropout1D(dropout_rate))\n",
    "\n",
    "    model.add(LSTM(lstm_units, dropout=dropout_rate, recurrent_dropout=dropout_rate))\n",
    "\n",
    "    model.add(Dense(1, activation=\"sigmoid\"))\n",
    "\n",
    "    optimizer = tf.keras.optimizers.RMSprop(learning_rate=learning_rate)\n",
    "    model.compile(loss=\"binary_crossentropy\", optimizer=optimizer, metrics=[\"accuracy\"])\n",
    "\n",
    "    print(\"\\nOptimized Model Summary:\")\n",
    "    model.summary()\n",
    "    return model"
   ]
  },
  {
   "cell_type": "markdown",
   "id": "25fdae5c",
   "metadata": {},
   "source": [
    "---\n",
    "---\n",
    "\n",
    "## <a id='toc4_'></a>[Experiment 1: LSTM avec GloVe Embeddings](#toc0_)"
   ]
  },
  {
   "cell_type": "markdown",
   "id": "5310950c",
   "metadata": {},
   "source": [
    "---\n",
    "\n",
    "### <a id='toc4_1_'></a>[MLFlow Setup](#toc0_)"
   ]
  },
  {
   "cell_type": "code",
   "execution_count": 5,
   "id": "f742b283",
   "metadata": {},
   "outputs": [
    {
     "name": "stdout",
     "output_type": "stream",
     "text": [
      "MLflow experiment set to: 'Tweet Sentiment Analysis - Advanced DL'\n"
     ]
    }
   ],
   "source": [
    "EXPERIMENT_NAME = \"Tweet Sentiment Analysis - Advanced DL\"\n",
    "mlflow.set_experiment(EXPERIMENT_NAME)\n",
    "print(f\"MLflow experiment set to: '{EXPERIMENT_NAME}'\")"
   ]
  },
  {
   "cell_type": "markdown",
   "id": "e9fd1bc1",
   "metadata": {},
   "source": [
    "---\n",
    "\n",
    "### <a id='toc4_2_'></a>[Entrainement du modèle avec MLFlow](#toc0_)"
   ]
  },
  {
   "cell_type": "code",
   "execution_count": null,
   "id": "456ea880",
   "metadata": {},
   "outputs": [
    {
     "name": "stdout",
     "output_type": "stream",
     "text": [
      "\n",
      "--- Starting MLflow Run for: LSTM_GloVe_Embeddings ---\n",
      "MLflow Run ID (GloVe): 731f586d05894dd881526bb0771dfe6c\n",
      "Using pre-trained embedding matrix.\n",
      "\n",
      "Optimized Model Summary:\n"
     ]
    },
    {
     "data": {
      "text/html": [
       "<pre style=\"white-space:pre;overflow-x:auto;line-height:normal;font-family:Menlo,'DejaVu Sans Mono',consolas,'Courier New',monospace\"><span style=\"font-weight: bold\">Model: \"sequential\"</span>\n",
       "</pre>\n"
      ],
      "text/plain": [
       "\u001b[1mModel: \"sequential\"\u001b[0m\n"
      ]
     },
     "metadata": {},
     "output_type": "display_data"
    },
    {
     "data": {
      "text/html": [
       "<pre style=\"white-space:pre;overflow-x:auto;line-height:normal;font-family:Menlo,'DejaVu Sans Mono',consolas,'Courier New',monospace\">┏━━━━━━━━━━━━━━━━━━━━━━━━━━━━━━━━━┳━━━━━━━━━━━━━━━━━━━━━━━━┳━━━━━━━━━━━━━━━┓\n",
       "┃<span style=\"font-weight: bold\"> Layer (type)                    </span>┃<span style=\"font-weight: bold\"> Output Shape           </span>┃<span style=\"font-weight: bold\">       Param # </span>┃\n",
       "┡━━━━━━━━━━━━━━━━━━━━━━━━━━━━━━━━━╇━━━━━━━━━━━━━━━━━━━━━━━━╇━━━━━━━━━━━━━━━┩\n",
       "│ embedding (<span style=\"color: #0087ff; text-decoration-color: #0087ff\">Embedding</span>)           │ (<span style=\"color: #00d7ff; text-decoration-color: #00d7ff\">None</span>, <span style=\"color: #00af00; text-decoration-color: #00af00\">300</span>, <span style=\"color: #00af00; text-decoration-color: #00af00\">300</span>)       │        <span style=\"color: #00af00; text-decoration-color: #00af00\">60,000</span> │\n",
       "├─────────────────────────────────┼────────────────────────┼───────────────┤\n",
       "│ spatial_dropout1d               │ (<span style=\"color: #00d7ff; text-decoration-color: #00d7ff\">None</span>, <span style=\"color: #00af00; text-decoration-color: #00af00\">300</span>, <span style=\"color: #00af00; text-decoration-color: #00af00\">300</span>)       │             <span style=\"color: #00af00; text-decoration-color: #00af00\">0</span> │\n",
       "│ (<span style=\"color: #0087ff; text-decoration-color: #0087ff\">SpatialDropout1D</span>)              │                        │               │\n",
       "├─────────────────────────────────┼────────────────────────┼───────────────┤\n",
       "│ lstm (<span style=\"color: #0087ff; text-decoration-color: #0087ff\">LSTM</span>)                     │ (<span style=\"color: #00d7ff; text-decoration-color: #00d7ff\">None</span>, <span style=\"color: #00af00; text-decoration-color: #00af00\">32</span>)             │        <span style=\"color: #00af00; text-decoration-color: #00af00\">42,624</span> │\n",
       "├─────────────────────────────────┼────────────────────────┼───────────────┤\n",
       "│ dense (<span style=\"color: #0087ff; text-decoration-color: #0087ff\">Dense</span>)                   │ (<span style=\"color: #00d7ff; text-decoration-color: #00d7ff\">None</span>, <span style=\"color: #00af00; text-decoration-color: #00af00\">1</span>)              │            <span style=\"color: #00af00; text-decoration-color: #00af00\">33</span> │\n",
       "└─────────────────────────────────┴────────────────────────┴───────────────┘\n",
       "</pre>\n"
      ],
      "text/plain": [
       "┏━━━━━━━━━━━━━━━━━━━━━━━━━━━━━━━━━┳━━━━━━━━━━━━━━━━━━━━━━━━┳━━━━━━━━━━━━━━━┓\n",
       "┃\u001b[1m \u001b[0m\u001b[1mLayer (type)                   \u001b[0m\u001b[1m \u001b[0m┃\u001b[1m \u001b[0m\u001b[1mOutput Shape          \u001b[0m\u001b[1m \u001b[0m┃\u001b[1m \u001b[0m\u001b[1m      Param #\u001b[0m\u001b[1m \u001b[0m┃\n",
       "┡━━━━━━━━━━━━━━━━━━━━━━━━━━━━━━━━━╇━━━━━━━━━━━━━━━━━━━━━━━━╇━━━━━━━━━━━━━━━┩\n",
       "│ embedding (\u001b[38;5;33mEmbedding\u001b[0m)           │ (\u001b[38;5;45mNone\u001b[0m, \u001b[38;5;34m300\u001b[0m, \u001b[38;5;34m300\u001b[0m)       │        \u001b[38;5;34m60,000\u001b[0m │\n",
       "├─────────────────────────────────┼────────────────────────┼───────────────┤\n",
       "│ spatial_dropout1d               │ (\u001b[38;5;45mNone\u001b[0m, \u001b[38;5;34m300\u001b[0m, \u001b[38;5;34m300\u001b[0m)       │             \u001b[38;5;34m0\u001b[0m │\n",
       "│ (\u001b[38;5;33mSpatialDropout1D\u001b[0m)              │                        │               │\n",
       "├─────────────────────────────────┼────────────────────────┼───────────────┤\n",
       "│ lstm (\u001b[38;5;33mLSTM\u001b[0m)                     │ (\u001b[38;5;45mNone\u001b[0m, \u001b[38;5;34m32\u001b[0m)             │        \u001b[38;5;34m42,624\u001b[0m │\n",
       "├─────────────────────────────────┼────────────────────────┼───────────────┤\n",
       "│ dense (\u001b[38;5;33mDense\u001b[0m)                   │ (\u001b[38;5;45mNone\u001b[0m, \u001b[38;5;34m1\u001b[0m)              │            \u001b[38;5;34m33\u001b[0m │\n",
       "└─────────────────────────────────┴────────────────────────┴───────────────┘\n"
      ]
     },
     "metadata": {},
     "output_type": "display_data"
    },
    {
     "data": {
      "text/html": [
       "<pre style=\"white-space:pre;overflow-x:auto;line-height:normal;font-family:Menlo,'DejaVu Sans Mono',consolas,'Courier New',monospace\"><span style=\"font-weight: bold\"> Total params: </span><span style=\"color: #00af00; text-decoration-color: #00af00\">102,657</span> (401.00 KB)\n",
       "</pre>\n"
      ],
      "text/plain": [
       "\u001b[1m Total params: \u001b[0m\u001b[38;5;34m102,657\u001b[0m (401.00 KB)\n"
      ]
     },
     "metadata": {},
     "output_type": "display_data"
    },
    {
     "data": {
      "text/html": [
       "<pre style=\"white-space:pre;overflow-x:auto;line-height:normal;font-family:Menlo,'DejaVu Sans Mono',consolas,'Courier New',monospace\"><span style=\"font-weight: bold\"> Trainable params: </span><span style=\"color: #00af00; text-decoration-color: #00af00\">42,657</span> (166.63 KB)\n",
       "</pre>\n"
      ],
      "text/plain": [
       "\u001b[1m Trainable params: \u001b[0m\u001b[38;5;34m42,657\u001b[0m (166.63 KB)\n"
      ]
     },
     "metadata": {},
     "output_type": "display_data"
    },
    {
     "data": {
      "text/html": [
       "<pre style=\"white-space:pre;overflow-x:auto;line-height:normal;font-family:Menlo,'DejaVu Sans Mono',consolas,'Courier New',monospace\"><span style=\"font-weight: bold\"> Non-trainable params: </span><span style=\"color: #00af00; text-decoration-color: #00af00\">60,000</span> (234.38 KB)\n",
       "</pre>\n"
      ],
      "text/plain": [
       "\u001b[1m Non-trainable params: \u001b[0m\u001b[38;5;34m60,000\u001b[0m (234.38 KB)\n"
      ]
     },
     "metadata": {},
     "output_type": "display_data"
    },
    {
     "name": "stderr",
     "output_type": "stream",
     "text": [
      "2025/05/23 11:14:35 WARNING mlflow.tensorflow: Failed to log training dataset information to MLflow Tracking. Reason: 'Series' object has no attribute 'flatten'\n"
     ]
    },
    {
     "name": "stdout",
     "output_type": "stream",
     "text": [
      "\n",
      "Training LSTM model with GloVe embeddings...\n"
     ]
    },
    {
     "data": {
      "text/html": [
       "<pre style=\"white-space:pre;overflow-x:auto;line-height:normal;font-family:Menlo,'DejaVu Sans Mono',consolas,'Courier New',monospace\"></pre>\n"
      ],
      "text/plain": []
     },
     "metadata": {},
     "output_type": "display_data"
    },
    {
     "name": "stdout",
     "output_type": "stream",
     "text": [
      "Epoch 1/20\n"
     ]
    },
    {
     "name": "stderr",
     "output_type": "stream",
     "text": [
      "WARNING:absl:You are saving your model as an HDF5 file via `model.save()` or `keras.saving.save_model(model)`. This file format is considered legacy. We recommend using instead the native Keras format, e.g. `model.save('my_model.keras')` or `keras.saving.save_model(model, 'my_model.keras')`. \n"
     ]
    },
    {
     "name": "stdout",
     "output_type": "stream",
     "text": [
      "2176/2176 - 32s - 15ms/step - accuracy: 0.6988 - loss: 0.5652 - val_accuracy: 0.7134 - val_loss: 0.5464\n",
      "Epoch 2/20\n"
     ]
    },
    {
     "name": "stderr",
     "output_type": "stream",
     "text": [
      "WARNING:absl:You are saving your model as an HDF5 file via `model.save()` or `keras.saving.save_model(model)`. This file format is considered legacy. We recommend using instead the native Keras format, e.g. `model.save('my_model.keras')` or `keras.saving.save_model(model, 'my_model.keras')`. \n"
     ]
    },
    {
     "name": "stdout",
     "output_type": "stream",
     "text": [
      "2176/2176 - 29s - 13ms/step - accuracy: 0.7103 - loss: 0.5488 - val_accuracy: 0.7138 - val_loss: 0.5422\n",
      "Epoch 3/20\n"
     ]
    },
    {
     "name": "stderr",
     "output_type": "stream",
     "text": [
      "WARNING:absl:You are saving your model as an HDF5 file via `model.save()` or `keras.saving.save_model(model)`. This file format is considered legacy. We recommend using instead the native Keras format, e.g. `model.save('my_model.keras')` or `keras.saving.save_model(model, 'my_model.keras')`. \n"
     ]
    },
    {
     "name": "stdout",
     "output_type": "stream",
     "text": [
      "2176/2176 - 30s - 14ms/step - accuracy: 0.7118 - loss: 0.5456 - val_accuracy: 0.7148 - val_loss: 0.5421\n",
      "Epoch 4/20\n"
     ]
    },
    {
     "name": "stderr",
     "output_type": "stream",
     "text": [
      "WARNING:absl:You are saving your model as an HDF5 file via `model.save()` or `keras.saving.save_model(model)`. This file format is considered legacy. We recommend using instead the native Keras format, e.g. `model.save('my_model.keras')` or `keras.saving.save_model(model, 'my_model.keras')`. \n"
     ]
    },
    {
     "name": "stdout",
     "output_type": "stream",
     "text": [
      "2176/2176 - 29s - 13ms/step - accuracy: 0.7130 - loss: 0.5442 - val_accuracy: 0.7151 - val_loss: 0.5405\n",
      "Epoch 5/20\n",
      "2176/2176 - 29s - 13ms/step - accuracy: 0.7139 - loss: 0.5432 - val_accuracy: 0.7147 - val_loss: 0.5426\n",
      "Epoch 6/20\n",
      "2176/2176 - 29s - 13ms/step - accuracy: 0.7141 - loss: 0.5422 - val_accuracy: 0.7165 - val_loss: 0.5407\n",
      "Epoch 7/20\n"
     ]
    },
    {
     "name": "stderr",
     "output_type": "stream",
     "text": [
      "WARNING:absl:You are saving your model as an HDF5 file via `model.save()` or `keras.saving.save_model(model)`. This file format is considered legacy. We recommend using instead the native Keras format, e.g. `model.save('my_model.keras')` or `keras.saving.save_model(model, 'my_model.keras')`. \n"
     ]
    },
    {
     "name": "stdout",
     "output_type": "stream",
     "text": [
      "2176/2176 - 29s - 13ms/step - accuracy: 0.7144 - loss: 0.5418 - val_accuracy: 0.7170 - val_loss: 0.5388\n",
      "Epoch 8/20\n"
     ]
    },
    {
     "name": "stderr",
     "output_type": "stream",
     "text": [
      "WARNING:absl:You are saving your model as an HDF5 file via `model.save()` or `keras.saving.save_model(model)`. This file format is considered legacy. We recommend using instead the native Keras format, e.g. `model.save('my_model.keras')` or `keras.saving.save_model(model, 'my_model.keras')`. \n"
     ]
    },
    {
     "name": "stdout",
     "output_type": "stream",
     "text": [
      "2176/2176 - 29s - 13ms/step - accuracy: 0.7150 - loss: 0.5412 - val_accuracy: 0.7169 - val_loss: 0.5387\n",
      "Epoch 9/20\n",
      "2176/2176 - 29s - 13ms/step - accuracy: 0.7151 - loss: 0.5406 - val_accuracy: 0.7169 - val_loss: 0.5392\n",
      "Epoch 10/20\n",
      "2176/2176 - 30s - 14ms/step - accuracy: 0.7156 - loss: 0.5403 - val_accuracy: 0.7178 - val_loss: 0.5389\n",
      "Epoch 11/20\n",
      "2176/2176 - 29s - 13ms/step - accuracy: 0.7156 - loss: 0.5400 - val_accuracy: 0.7173 - val_loss: 0.5387\n",
      "\u001b[1m1/1\u001b[0m \u001b[32m━━━━━━━━━━━━━━━━━━━━\u001b[0m\u001b[37m\u001b[0m \u001b[1m0s\u001b[0m 180ms/step\n",
      "GloVe Model Training Finished.\n",
      "Tokenizer logged as artifact to MLflow run 731f586d05894dd881526bb0771dfe6c.\n",
      "--- MLflow Run 731f586d05894dd881526bb0771dfe6c finished ---\n"
     ]
    }
   ],
   "source": [
    "LSTM_UNITS = 32\n",
    "LEARNING_RATE = 0.01\n",
    "EPOCHS = 20\n",
    "BATCH_SIZE = 512\n",
    "DROPOUT = 0.2\n",
    "\n",
    "TOKENIZER_ARTIFACT_PATH = \"tokenizer\"\n",
    "\n",
    "MODEL_ARTIFACT_PATH = \"model\"\n",
    "\n",
    "run_name_glove = \"LSTM_GloVe_Embeddings\"\n",
    "\n",
    "\n",
    "print(f\"\\n--- Starting MLflow Run for: {run_name_glove} ---\")\n",
    "\n",
    "\n",
    "mlflow.tensorflow.autolog(\n",
    "    log_models=True, disable=False, registered_model_name=None\n",
    ")  # Disable registration via autolog for now\n",
    "\n",
    "\n",
    "with mlflow.start_run(run_name=run_name_glove) as run_glove:\n",
    "\n",
    "    run_id_glove = run_glove.info.run_id\n",
    "\n",
    "    print(f\"MLflow Run ID (GloVe): {run_id_glove}\")\n",
    "\n",
    "    # --- Log additional parameters manually (autolog might miss some) ---\n",
    "\n",
    "    mlflow.log_param(\"embedding_type\", \"GloVe (Not Trainable)\")\n",
    "\n",
    "    mlflow.log_param(\"vocab_size\", actual_vocab_size)\n",
    "\n",
    "    mlflow.log_param(\"max_sequence_length\", 300)\n",
    "\n",
    "    mlflow.log_param(\"embedding_dim\", EMBEDDING_DIM)\n",
    "\n",
    "    mlflow.log_param(\"lstm_units\", LSTM_UNITS)\n",
    "\n",
    "    mlflow.log_param(\"dropout\", DROPOUT)\n",
    "\n",
    "    mlflow.log_param(\"learning_rate\", LEARNING_RATE)\n",
    "\n",
    "    mlflow.log_param(\"epochs\", EPOCHS)\n",
    "\n",
    "    mlflow.log_param(\"batch_size\", BATCH_SIZE)\n",
    "\n",
    "    mlflow.log_param(\"architecture\", \"Input-Embedding-SpatialDropout-BiLSTM-Dense\")\n",
    "\n",
    "    # --- Build the model ---\n",
    "\n",
    "    model_glove = build_lstm_model(\n",
    "        vocab_size=actual_vocab_size,\n",
    "        embedding_dim=EMBEDDING_DIM,\n",
    "        max_length=300,\n",
    "        lstm_units=LSTM_UNITS,\n",
    "        dropout_rate=DROPOUT,\n",
    "        learning_rate=LEARNING_RATE,\n",
    "        embedding_matrix=embedding_matrix,\n",
    "    )\n",
    "\n",
    "    # --- Callbacks ---\n",
    "\n",
    "    early_stopping = EarlyStopping(\n",
    "        monitor=\"val_loss\", patience=3, restore_best_weights=True\n",
    "    )\n",
    "\n",
    "    # --- Train the model ---\n",
    "\n",
    "    print(\"\\nTraining LSTM model with GloVe embeddings...\")\n",
    "\n",
    "    history_glove = model_glove.fit(\n",
    "        X_train_pad,\n",
    "        y_train,\n",
    "        epochs=EPOCHS,\n",
    "        batch_size=BATCH_SIZE,\n",
    "        validation_data=(X_val_pad, y_val),\n",
    "        callbacks=[early_stopping],\n",
    "        verbose=2,\n",
    "    )\n",
    "\n",
    "    print(\"GloVe Model Training Finished.\")\n",
    "\n",
    "    if os.path.exists(\"keras_tokenizer.pkl\"):\n",
    "\n",
    "        mlflow.log_artifact(\n",
    "            \"keras_tokenizer.pkl\", artifact_path=TOKENIZER_ARTIFACT_PATH\n",
    "        )\n",
    "\n",
    "        print(f\"Tokenizer logged as artifact to MLflow run {run_id_glove}.\")\n",
    "\n",
    "    else:\n",
    "        print(\n",
    "            \"Warning: Tokenizer file keras_tokenizer.pkl not found, could not log artifact.\"\n",
    "        )\n",
    "\n",
    "    print(f\"--- MLflow Run {run_id_glove} finished ---\")"
   ]
  },
  {
   "cell_type": "markdown",
   "id": "b35ae4f9",
   "metadata": {},
   "source": [
    "---\n",
    "---\n",
    "\n",
    "## <a id='toc5_'></a>[Experiment 2: LSTM avec GloVe Embeddings (Entrainable)](#toc0_)"
   ]
  },
  {
   "cell_type": "markdown",
   "id": "267456a2",
   "metadata": {},
   "source": [
    "---\n",
    "\n",
    "### <a id='toc5_1_'></a>[Entrainement du modèle avec MLFlow](#toc0_)"
   ]
  },
  {
   "cell_type": "code",
   "execution_count": 10,
   "id": "f01781e8",
   "metadata": {},
   "outputs": [
    {
     "name": "stdout",
     "output_type": "stream",
     "text": [
      "\n",
      "--- Starting MLflow Run for: LSTM_Trainable_Embeddings ---\n",
      "MLflow Run ID (Trainable): 8009843fc9b94803a63e23d56615957e\n",
      "Using trainable embedding layer.\n",
      "\n",
      "Optimized Model Summary:\n"
     ]
    },
    {
     "data": {
      "text/html": [
       "<pre style=\"white-space:pre;overflow-x:auto;line-height:normal;font-family:Menlo,'DejaVu Sans Mono',consolas,'Courier New',monospace\"><span style=\"font-weight: bold\">Model: \"sequential_1\"</span>\n",
       "</pre>\n"
      ],
      "text/plain": [
       "\u001b[1mModel: \"sequential_1\"\u001b[0m\n"
      ]
     },
     "metadata": {},
     "output_type": "display_data"
    },
    {
     "data": {
      "text/html": [
       "<pre style=\"white-space:pre;overflow-x:auto;line-height:normal;font-family:Menlo,'DejaVu Sans Mono',consolas,'Courier New',monospace\">┏━━━━━━━━━━━━━━━━━━━━━━━━━━━━━━━━━┳━━━━━━━━━━━━━━━━━━━━━━━━┳━━━━━━━━━━━━━━━┓\n",
       "┃<span style=\"font-weight: bold\"> Layer (type)                    </span>┃<span style=\"font-weight: bold\"> Output Shape           </span>┃<span style=\"font-weight: bold\">       Param # </span>┃\n",
       "┡━━━━━━━━━━━━━━━━━━━━━━━━━━━━━━━━━╇━━━━━━━━━━━━━━━━━━━━━━━━╇━━━━━━━━━━━━━━━┩\n",
       "│ embedding_1 (<span style=\"color: #0087ff; text-decoration-color: #0087ff\">Embedding</span>)         │ (<span style=\"color: #00d7ff; text-decoration-color: #00d7ff\">None</span>, <span style=\"color: #00af00; text-decoration-color: #00af00\">300</span>, <span style=\"color: #00af00; text-decoration-color: #00af00\">300</span>)       │        <span style=\"color: #00af00; text-decoration-color: #00af00\">60,000</span> │\n",
       "├─────────────────────────────────┼────────────────────────┼───────────────┤\n",
       "│ spatial_dropout1d_1             │ (<span style=\"color: #00d7ff; text-decoration-color: #00d7ff\">None</span>, <span style=\"color: #00af00; text-decoration-color: #00af00\">300</span>, <span style=\"color: #00af00; text-decoration-color: #00af00\">300</span>)       │             <span style=\"color: #00af00; text-decoration-color: #00af00\">0</span> │\n",
       "│ (<span style=\"color: #0087ff; text-decoration-color: #0087ff\">SpatialDropout1D</span>)              │                        │               │\n",
       "├─────────────────────────────────┼────────────────────────┼───────────────┤\n",
       "│ lstm_1 (<span style=\"color: #0087ff; text-decoration-color: #0087ff\">LSTM</span>)                   │ (<span style=\"color: #00d7ff; text-decoration-color: #00d7ff\">None</span>, <span style=\"color: #00af00; text-decoration-color: #00af00\">100</span>)            │       <span style=\"color: #00af00; text-decoration-color: #00af00\">160,400</span> │\n",
       "├─────────────────────────────────┼────────────────────────┼───────────────┤\n",
       "│ dense_1 (<span style=\"color: #0087ff; text-decoration-color: #0087ff\">Dense</span>)                 │ (<span style=\"color: #00d7ff; text-decoration-color: #00d7ff\">None</span>, <span style=\"color: #00af00; text-decoration-color: #00af00\">1</span>)              │           <span style=\"color: #00af00; text-decoration-color: #00af00\">101</span> │\n",
       "└─────────────────────────────────┴────────────────────────┴───────────────┘\n",
       "</pre>\n"
      ],
      "text/plain": [
       "┏━━━━━━━━━━━━━━━━━━━━━━━━━━━━━━━━━┳━━━━━━━━━━━━━━━━━━━━━━━━┳━━━━━━━━━━━━━━━┓\n",
       "┃\u001b[1m \u001b[0m\u001b[1mLayer (type)                   \u001b[0m\u001b[1m \u001b[0m┃\u001b[1m \u001b[0m\u001b[1mOutput Shape          \u001b[0m\u001b[1m \u001b[0m┃\u001b[1m \u001b[0m\u001b[1m      Param #\u001b[0m\u001b[1m \u001b[0m┃\n",
       "┡━━━━━━━━━━━━━━━━━━━━━━━━━━━━━━━━━╇━━━━━━━━━━━━━━━━━━━━━━━━╇━━━━━━━━━━━━━━━┩\n",
       "│ embedding_1 (\u001b[38;5;33mEmbedding\u001b[0m)         │ (\u001b[38;5;45mNone\u001b[0m, \u001b[38;5;34m300\u001b[0m, \u001b[38;5;34m300\u001b[0m)       │        \u001b[38;5;34m60,000\u001b[0m │\n",
       "├─────────────────────────────────┼────────────────────────┼───────────────┤\n",
       "│ spatial_dropout1d_1             │ (\u001b[38;5;45mNone\u001b[0m, \u001b[38;5;34m300\u001b[0m, \u001b[38;5;34m300\u001b[0m)       │             \u001b[38;5;34m0\u001b[0m │\n",
       "│ (\u001b[38;5;33mSpatialDropout1D\u001b[0m)              │                        │               │\n",
       "├─────────────────────────────────┼────────────────────────┼───────────────┤\n",
       "│ lstm_1 (\u001b[38;5;33mLSTM\u001b[0m)                   │ (\u001b[38;5;45mNone\u001b[0m, \u001b[38;5;34m100\u001b[0m)            │       \u001b[38;5;34m160,400\u001b[0m │\n",
       "├─────────────────────────────────┼────────────────────────┼───────────────┤\n",
       "│ dense_1 (\u001b[38;5;33mDense\u001b[0m)                 │ (\u001b[38;5;45mNone\u001b[0m, \u001b[38;5;34m1\u001b[0m)              │           \u001b[38;5;34m101\u001b[0m │\n",
       "└─────────────────────────────────┴────────────────────────┴───────────────┘\n"
      ]
     },
     "metadata": {},
     "output_type": "display_data"
    },
    {
     "data": {
      "text/html": [
       "<pre style=\"white-space:pre;overflow-x:auto;line-height:normal;font-family:Menlo,'DejaVu Sans Mono',consolas,'Courier New',monospace\"><span style=\"font-weight: bold\"> Total params: </span><span style=\"color: #00af00; text-decoration-color: #00af00\">220,501</span> (861.33 KB)\n",
       "</pre>\n"
      ],
      "text/plain": [
       "\u001b[1m Total params: \u001b[0m\u001b[38;5;34m220,501\u001b[0m (861.33 KB)\n"
      ]
     },
     "metadata": {},
     "output_type": "display_data"
    },
    {
     "data": {
      "text/html": [
       "<pre style=\"white-space:pre;overflow-x:auto;line-height:normal;font-family:Menlo,'DejaVu Sans Mono',consolas,'Courier New',monospace\"><span style=\"font-weight: bold\"> Trainable params: </span><span style=\"color: #00af00; text-decoration-color: #00af00\">220,501</span> (861.33 KB)\n",
       "</pre>\n"
      ],
      "text/plain": [
       "\u001b[1m Trainable params: \u001b[0m\u001b[38;5;34m220,501\u001b[0m (861.33 KB)\n"
      ]
     },
     "metadata": {},
     "output_type": "display_data"
    },
    {
     "data": {
      "text/html": [
       "<pre style=\"white-space:pre;overflow-x:auto;line-height:normal;font-family:Menlo,'DejaVu Sans Mono',consolas,'Courier New',monospace\"><span style=\"font-weight: bold\"> Non-trainable params: </span><span style=\"color: #00af00; text-decoration-color: #00af00\">0</span> (0.00 B)\n",
       "</pre>\n"
      ],
      "text/plain": [
       "\u001b[1m Non-trainable params: \u001b[0m\u001b[38;5;34m0\u001b[0m (0.00 B)\n"
      ]
     },
     "metadata": {},
     "output_type": "display_data"
    },
    {
     "name": "stderr",
     "output_type": "stream",
     "text": [
      "2025/05/23 11:25:09 WARNING mlflow.tensorflow: Failed to log training dataset information to MLflow Tracking. Reason: 'Series' object has no attribute 'flatten'\n"
     ]
    },
    {
     "name": "stdout",
     "output_type": "stream",
     "text": [
      "\n",
      "Training LSTM model with GloVe embeddings...\n"
     ]
    },
    {
     "data": {
      "text/html": [
       "<pre style=\"white-space:pre;overflow-x:auto;line-height:normal;font-family:Menlo,'DejaVu Sans Mono',consolas,'Courier New',monospace\"></pre>\n"
      ],
      "text/plain": []
     },
     "metadata": {},
     "output_type": "display_data"
    },
    {
     "name": "stdout",
     "output_type": "stream",
     "text": [
      "Epoch 1/20\n"
     ]
    },
    {
     "name": "stderr",
     "output_type": "stream",
     "text": [
      "WARNING:absl:You are saving your model as an HDF5 file via `model.save()` or `keras.saving.save_model(model)`. This file format is considered legacy. We recommend using instead the native Keras format, e.g. `model.save('my_model.keras')` or `keras.saving.save_model(model, 'my_model.keras')`. \n"
     ]
    },
    {
     "name": "stdout",
     "output_type": "stream",
     "text": [
      "4352/4352 - 95s - 22ms/step - accuracy: 0.6970 - loss: 0.5600 - val_accuracy: 0.7121 - val_loss: 0.5440\n",
      "Epoch 2/20\n"
     ]
    },
    {
     "name": "stderr",
     "output_type": "stream",
     "text": [
      "WARNING:absl:You are saving your model as an HDF5 file via `model.save()` or `keras.saving.save_model(model)`. This file format is considered legacy. We recommend using instead the native Keras format, e.g. `model.save('my_model.keras')` or `keras.saving.save_model(model, 'my_model.keras')`. \n"
     ]
    },
    {
     "name": "stdout",
     "output_type": "stream",
     "text": [
      "4352/4352 - 91s - 21ms/step - accuracy: 0.7128 - loss: 0.5422 - val_accuracy: 0.7124 - val_loss: 0.5427\n",
      "Epoch 3/20\n"
     ]
    },
    {
     "name": "stderr",
     "output_type": "stream",
     "text": [
      "WARNING:absl:You are saving your model as an HDF5 file via `model.save()` or `keras.saving.save_model(model)`. This file format is considered legacy. We recommend using instead the native Keras format, e.g. `model.save('my_model.keras')` or `keras.saving.save_model(model, 'my_model.keras')`. \n"
     ]
    },
    {
     "name": "stdout",
     "output_type": "stream",
     "text": [
      "4352/4352 - 91s - 21ms/step - accuracy: 0.7147 - loss: 0.5397 - val_accuracy: 0.7161 - val_loss: 0.5382\n",
      "Epoch 4/20\n"
     ]
    },
    {
     "name": "stderr",
     "output_type": "stream",
     "text": [
      "WARNING:absl:You are saving your model as an HDF5 file via `model.save()` or `keras.saving.save_model(model)`. This file format is considered legacy. We recommend using instead the native Keras format, e.g. `model.save('my_model.keras')` or `keras.saving.save_model(model, 'my_model.keras')`. \n"
     ]
    },
    {
     "name": "stdout",
     "output_type": "stream",
     "text": [
      "4352/4352 - 91s - 21ms/step - accuracy: 0.7155 - loss: 0.5382 - val_accuracy: 0.7164 - val_loss: 0.5379\n",
      "Epoch 5/20\n"
     ]
    },
    {
     "name": "stderr",
     "output_type": "stream",
     "text": [
      "WARNING:absl:You are saving your model as an HDF5 file via `model.save()` or `keras.saving.save_model(model)`. This file format is considered legacy. We recommend using instead the native Keras format, e.g. `model.save('my_model.keras')` or `keras.saving.save_model(model, 'my_model.keras')`. \n"
     ]
    },
    {
     "name": "stdout",
     "output_type": "stream",
     "text": [
      "4352/4352 - 91s - 21ms/step - accuracy: 0.7158 - loss: 0.5377 - val_accuracy: 0.7164 - val_loss: 0.5377\n",
      "Epoch 6/20\n",
      "4352/4352 - 91s - 21ms/step - accuracy: 0.7160 - loss: 0.5375 - val_accuracy: 0.7167 - val_loss: 0.5379\n",
      "Epoch 7/20\n",
      "4352/4352 - 90s - 21ms/step - accuracy: 0.7158 - loss: 0.5375 - val_accuracy: 0.7169 - val_loss: 0.5380\n",
      "Epoch 8/20\n",
      "4352/4352 - 91s - 21ms/step - accuracy: 0.7159 - loss: 0.5381 - val_accuracy: 0.7160 - val_loss: 0.5397\n",
      "\u001b[1m1/1\u001b[0m \u001b[32m━━━━━━━━━━━━━━━━━━━━\u001b[0m\u001b[37m\u001b[0m \u001b[1m0s\u001b[0m 174ms/step\n",
      "GloVe Model Training Finished.\n",
      "Tokenizer logged as artifact to MLflow run 731f586d05894dd881526bb0771dfe6c.\n",
      "--- MLflow Run 731f586d05894dd881526bb0771dfe6c finished ---\n"
     ]
    }
   ],
   "source": [
    "LSTM_UNITS = 100\n",
    "LEARNING_RATE = 0.01\n",
    "EPOCHS = 20\n",
    "BATCH_SIZE = 256\n",
    "DROPOUT = 0.2\n",
    "\n",
    "TOKENIZER_ARTIFACT_PATH = \"tokenizer\"\n",
    "\n",
    "\n",
    "MODEL_ARTIFACT_PATH = \"model\"\n",
    "\n",
    "\n",
    "run_name_trainable = \"LSTM_Trainable_Embeddings\"\n",
    "\n",
    "\n",
    "print(f\"\\n--- Starting MLflow Run for: {run_name_trainable } ---\")\n",
    "\n",
    "\n",
    "mlflow.tensorflow.autolog(\n",
    "    log_models=True, disable=False, registered_model_name=None\n",
    ")  # Disable registration via autolog for now\n",
    "\n",
    "\n",
    "with mlflow.start_run(run_name=run_name_trainable) as run_trainable:\n",
    "\n",
    "    run_id_trainable = run_trainable.info.run_id\n",
    "    print(f\"MLflow Run ID (Trainable): {run_id_trainable}\")\n",
    "\n",
    "    # --- Log additional parameters manually (autolog might miss some) ---\n",
    "\n",
    "    mlflow.log_param(\"embedding_type\", \"GloVe (Not Trainable)\")\n",
    "\n",
    "    mlflow.log_param(\"vocab_size\", actual_vocab_size)\n",
    "\n",
    "    mlflow.log_param(\"max_sequence_length\", 300)\n",
    "\n",
    "    mlflow.log_param(\"embedding_dim\", EMBEDDING_DIM)\n",
    "\n",
    "    mlflow.log_param(\"lstm_units\", LSTM_UNITS)\n",
    "\n",
    "    mlflow.log_param(\"dropout\", DROPOUT)\n",
    "\n",
    "    mlflow.log_param(\"learning_rate\", LEARNING_RATE)\n",
    "\n",
    "    mlflow.log_param(\"epochs\", EPOCHS)\n",
    "\n",
    "    mlflow.log_param(\"batch_size\", BATCH_SIZE)\n",
    "\n",
    "    mlflow.log_param(\"architecture\", \"Input-Embedding-SpatialDropout-BiLSTM-Dense\")\n",
    "\n",
    "    # --- Build the model ---\n",
    "\n",
    "    model_glove = build_lstm_model(\n",
    "        vocab_size=actual_vocab_size,\n",
    "        embedding_dim=EMBEDDING_DIM,\n",
    "        max_length=300,\n",
    "        lstm_units=LSTM_UNITS,\n",
    "        dropout_rate=DROPOUT,\n",
    "        learning_rate=LEARNING_RATE,\n",
    "        embedding_matrix=None,\n",
    "        is_embedding_trainable=True,\n",
    "    )\n",
    "\n",
    "    # --- Callbacks ---\n",
    "\n",
    "    early_stopping = EarlyStopping(\n",
    "        monitor=\"val_loss\", patience=3, restore_best_weights=True\n",
    "    )\n",
    "\n",
    "    # --- Train the model ---\n",
    "\n",
    "    print(\"\\nTraining LSTM model with GloVe embeddings...\")\n",
    "\n",
    "    history_glove = model_glove.fit(\n",
    "        X_train_pad,\n",
    "        y_train,\n",
    "        epochs=EPOCHS,\n",
    "        batch_size=BATCH_SIZE,\n",
    "        validation_data=(X_val_pad, y_val),\n",
    "        callbacks=[early_stopping],\n",
    "        verbose=2,\n",
    "    )\n",
    "\n",
    "    print(\"GloVe Model Training Finished.\")\n",
    "\n",
    "    if os.path.exists(\"keras_tokenizer.pkl\"):\n",
    "\n",
    "        mlflow.log_artifact(\n",
    "            \"keras_tokenizer.pkl\", artifact_path=TOKENIZER_ARTIFACT_PATH\n",
    "        )\n",
    "\n",
    "        print(f\"Tokenizer logged as artifact to MLflow run {run_id_glove}.\")\n",
    "\n",
    "    else:\n",
    "        print(\n",
    "            \"Warning: Tokenizer file keras_tokenizer.pkl not found, could not log artifact.\"\n",
    "        )\n",
    "\n",
    "    print(f\"--- MLflow Run {run_id_glove} finished ---\")"
   ]
  },
  {
   "cell_type": "markdown",
   "id": "ee16e262",
   "metadata": {},
   "source": [
    "---\n",
    "---\n",
    "\n",
    "## <a id='toc6_'></a>[Evaluation et Selection](#toc0_)"
   ]
  },
  {
   "cell_type": "markdown",
   "id": "98f44996",
   "metadata": {},
   "source": [
    "---\n",
    "\n",
    "### <a id='toc6_1_'></a>[Selection du meilleur modèle (val_accuracy)](#toc0_)"
   ]
  },
  {
   "cell_type": "code",
   "execution_count": 13,
   "id": "5f310abb",
   "metadata": {},
   "outputs": [
    {
     "name": "stdout",
     "output_type": "stream",
     "text": [
      "Automatically selected best run based on val_accuracy: b72ca14fe64c4a549306aebe1ba4641c\n",
      "Selected model type: Trainable\n"
     ]
    }
   ],
   "source": [
    "client = mlflow.tracking.MlflowClient()\n",
    "experiment = client.get_experiment_by_name(EXPERIMENT_NAME)\n",
    "runs = client.search_runs(\n",
    "    experiment_ids=experiment.experiment_id,\n",
    "    filter_string=\"metrics.val_accuracy > 0\",\n",
    "    order_by=[\"metrics.val_accuracy DESC\"],\n",
    "    max_results=1,\n",
    ")\n",
    "BEST_RUN_ID = runs[0].info.run_id\n",
    "print(f\"Automatically selected best run based on val_accuracy: {BEST_RUN_ID}\")\n",
    "print(f\"Selected model type: {runs[0].data.params.get('embedding_type')}\")"
   ]
  },
  {
   "cell_type": "markdown",
   "id": "8afac8e3",
   "metadata": {},
   "source": [
    "---\n",
    "\n",
    "### <a id='toc6_2_'></a>[Evaluation du modèle sur les données de Test](#toc0_)"
   ]
  },
  {
   "cell_type": "code",
   "execution_count": 32,
   "id": "2eb05de9",
   "metadata": {},
   "outputs": [
    {
     "name": "stdout",
     "output_type": "stream",
     "text": [
      "\n",
      "--- Evaluating Best Model (Run ID: b72ca14fe64c4a549306aebe1ba4641c) on Test Set ---\n"
     ]
    },
    {
     "data": {
      "application/vnd.jupyter.widget-view+json": {
       "model_id": "a0578c4f47e44560829d12a7760f3a62",
       "version_major": 2,
       "version_minor": 0
      },
      "text/plain": [
       "Downloading artifacts:   0%|          | 0/1 [00:00<?, ?it/s]"
      ]
     },
     "metadata": {},
     "output_type": "display_data"
    },
    {
     "name": "stdout",
     "output_type": "stream",
     "text": [
      "Tokenizer loaded successfully from artifact.\n",
      "Best model loaded successfully from: runs:/b72ca14fe64c4a549306aebe1ba4641c/model\n",
      "\n",
      "Predicting on test set...\n",
      "Test Loss: 0.5298\n",
      "Test Accuracy: 0.7211\n",
      "\u001b[1m7461/7461\u001b[0m \u001b[32m━━━━━━━━━━━━━━━━━━━━\u001b[0m\u001b[37m\u001b[0m \u001b[1m9s\u001b[0m 1ms/step\n",
      "Test Precision: 0.6990\n",
      "Test Recall: 0.7759\n",
      "Test F1-Score: 0.7355\n",
      "\n",
      "Classification Report (Test Set):\n",
      "              precision    recall  f1-score   support\n",
      "\n",
      "           0       0.75      0.67      0.71    119443\n",
      "           1       0.70      0.78      0.74    119295\n",
      "\n",
      "    accuracy                           0.72    238738\n",
      "   macro avg       0.72      0.72      0.72    238738\n",
      "weighted avg       0.72      0.72      0.72    238738\n",
      "\n",
      "\n",
      "Confusion Matrix (Test Set):\n"
     ]
    },
    {
     "data": {
      "image/png": "[encoded data removed]",
      "text/plain": [
       "<Figure size 600x400 with 2 Axes>"
      ]
     },
     "metadata": {},
     "output_type": "display_data"
    },
    {
     "name": "stdout",
     "output_type": "stream",
     "text": [
      "\n",
      "Test metrics logged back to the selected MLflow run.\n"
     ]
    },
    {
     "data": {
      "text/plain": [
       "<Figure size 640x480 with 0 Axes>"
      ]
     },
     "metadata": {},
     "output_type": "display_data"
    }
   ],
   "source": [
    "print(f\"\\n--- Evaluating Best Model (Run ID: {BEST_RUN_ID}) on Test Set ---\")\n",
    "\n",
    "# --- Load Tokenizer ---\n",
    "try:\n",
    "    client = mlflow.tracking.MlflowClient()\n",
    "    # Download the tokenizer artifact logged in the best run\n",
    "    local_path = client.download_artifacts(BEST_RUN_ID, TOKENIZER_ARTIFACT_PATH, \".\")\n",
    "    tokenizer_path = os.path.join(local_path, \"keras_tokenizer.pkl\")\n",
    "    with open(tokenizer_path, \"rb\") as handle:\n",
    "        loaded_tokenizer = pickle.load(handle)\n",
    "    print(\"Tokenizer loaded successfully from artifact.\")\n",
    "\n",
    "    # Preprocess test data *using the loaded tokenizer* (already done above, but good practice)\n",
    "    # X_test_seq_loaded = loaded_tokenizer.texts_to_sequences(X_test)\n",
    "    # X_test_pad_loaded = pad_sequences(X_test_seq_loaded, maxlen=MAX_SEQUENCE_LENGTH, padding='post', truncating='post')\n",
    "    # Using X_test_pad calculated earlier which used the correct tokenizer\n",
    "    X_test_pad_loaded = X_test_pad\n",
    "\n",
    "except Exception as e:\n",
    "    print(\n",
    "        f\"Error loading tokenizer artifact for run {BEST_RUN_ID}: {traceback.format_exc()}\"\n",
    "    )\n",
    "    print(\"Cannot proceed with test set evaluation without the correct tokenizer.\")\n",
    "    loaded_tokenizer = None  # Ensure it's None if loading fails\n",
    "\n",
    "# --- Load Model ---\n",
    "if loaded_tokenizer:  # Proceed only if tokenizer was loaded\n",
    "    try:\n",
    "        # Construct model URI\n",
    "        model_uri = f\"runs:/{BEST_RUN_ID}/{MODEL_ARTIFACT_PATH}\"\n",
    "        loaded_model = mlflow.tensorflow.load_model(model_uri)\n",
    "        print(f\"Best model loaded successfully from: {model_uri}\")\n",
    "\n",
    "        # --- Evaluate on Test Set ---\n",
    "        print(\"\\nPredicting on test set...\")\n",
    "        loss, accuracy = loaded_model.evaluate(X_test_pad_loaded, y_test, verbose=0)\n",
    "        print(f\"Test Loss: {loss:.4f}\")\n",
    "        print(f\"Test Accuracy: {accuracy:.4f}\")\n",
    "\n",
    "        # Get detailed predictions for other metrics\n",
    "        y_pred_proba = loaded_model.predict(X_test_pad_loaded)\n",
    "        y_pred = (\n",
    "            (y_pred_proba > 0.5).astype(int).flatten()\n",
    "        )  # Convert probabilities to binary predictions (0 or 1)\n",
    "\n",
    "        test_precision = precision_score(y_test, y_pred, zero_division=0)\n",
    "        test_recall = recall_score(y_test, y_pred, zero_division=0)\n",
    "        test_f1 = f1_score(y_test, y_pred, zero_division=0)\n",
    "\n",
    "        print(f\"Test Precision: {test_precision:.4f}\")\n",
    "        print(f\"Test Recall: {test_recall:.4f}\")\n",
    "        print(f\"Test F1-Score: {test_f1:.4f}\")\n",
    "\n",
    "        print(\"\\nClassification Report (Test Set):\")\n",
    "        print(classification_report(y_test, y_pred))\n",
    "\n",
    "        print(\"\\nConfusion Matrix (Test Set):\")\n",
    "        cm = confusion_matrix(y_test, y_pred)\n",
    "        plt.figure(figsize=(6, 4))\n",
    "        sns.heatmap(\n",
    "            cm,\n",
    "            annot=True,\n",
    "            fmt=\"d\",\n",
    "            cmap=\"Blues\",\n",
    "            xticklabels=[\"Non-Negative\", \"Negative\"],\n",
    "            yticklabels=[\"Non-Negative\", \"Negative\"],\n",
    "        )\n",
    "        plt.xlabel(\"Predicted Label\")\n",
    "        plt.ylabel(\"True Label\")\n",
    "        plt.title(\"Confusion Matrix (Test Set)\")\n",
    "        plt.show()\n",
    "\n",
    "        # --- Optional: Log test metrics back to the selected run ---\n",
    "        client.log_metric(BEST_RUN_ID, \"test_loss\", loss)\n",
    "        client.log_metric(BEST_RUN_ID, \"test_accuracy\", accuracy)\n",
    "        client.log_metric(BEST_RUN_ID, \"test_precision\", test_precision)\n",
    "        client.log_metric(BEST_RUN_ID, \"test_recall\", test_recall)\n",
    "        client.log_metric(BEST_RUN_ID, \"test_f1\", test_f1)\n",
    "        print(\"\\nTest metrics logged back to the selected MLflow run.\")\n",
    "\n",
    "        # Log confusion matrix image\n",
    "        fig_path = \"test_confusion_matrix.png\"\n",
    "        plt.savefig(fig_path)\n",
    "        client.log_artifact(BEST_RUN_ID, fig_path)\n",
    "        if os.path.exists(fig_path):\n",
    "            os.remove(fig_path)\n",
    "\n",
    "    except Exception as e:\n",
    "        print(\n",
    "            f\"Error loading model or evaluating on test set for run {BEST_RUN_ID}: {traceback.format_exc()}\"\n",
    "        )"
   ]
  },
  {
   "cell_type": "markdown",
   "id": "af758bf8",
   "metadata": {},
   "source": [
    "---\n",
    "\n",
    "### <a id='toc6_3_'></a>[Enregistrement du model](#toc0_)"
   ]
  },
  {
   "cell_type": "code",
   "execution_count": 33,
   "id": "40513157",
   "metadata": {},
   "outputs": [
    {
     "name": "stdout",
     "output_type": "stream",
     "text": [
      "Model registered successfully:\n",
      "- Name: MODEL_ADVANCED\n",
      "- Version: 1\n",
      "- Stage: None\n"
     ]
    },
    {
     "name": "stderr",
     "output_type": "stream",
     "text": [
      "Successfully registered model 'MODEL_ADVANCED'.\n",
      "Created version '1' of model 'MODEL_ADVANCED'.\n"
     ]
    }
   ],
   "source": [
    "registered_model_info = mlflow.register_model(\n",
    "    model_uri=f\"runs:/{BEST_RUN_ID}/model\", name=\"MODEL_ADVANCED\"\n",
    ")\n",
    "print(\"Model registered successfully:\")\n",
    "print(f\"- Name: {registered_model_info.name}\")\n",
    "print(f\"- Version: {registered_model_info.version}\")\n",
    "print(f\"- Stage: {registered_model_info.current_stage}\")"
   ]
  },
  {
   "cell_type": "markdown",
   "id": "28519d15",
   "metadata": {},
   "source": [
    "---\n",
    "---\n",
    "\n",
    "## <a id='toc7_'></a>[Dashboard MLFlow](#toc0_)"
   ]
  },
  {
   "cell_type": "code",
   "execution_count": null,
   "id": "09c7928b",
   "metadata": {},
   "outputs": [],
   "source": [
    "! mlflow server --host 127.0.0.1 --port 8080"
   ]
  },
  {
   "cell_type": "markdown",
   "id": "8350fe3b",
   "metadata": {},
   "source": [
    "![Overview](./mlflow_screenshot/advanced/Overview.png)"
   ]
  },
  {
   "cell_type": "markdown",
   "id": "ffb79a3f",
   "metadata": {},
   "source": [
    "![Metrics](./mlflow_screenshot/advanced/Metrics.png)"
   ]
  }
 ],
 "metadata": {
  "kernelspec": {
   "display_name": ".venv",
   "language": "python",
   "name": "python3"
  },
  "language_info": {
   "codemirror_mode": {
    "name": "ipython",
    "version": 3
   },
   "file_extension": ".py",
   "mimetype": "text/x-python",
   "name": "python",
   "nbconvert_exporter": "python",
   "pygments_lexer": "ipython3",
   "version": "3.10.11"
  }
 },
 "nbformat": 4,
 "nbformat_minor": 5
}
