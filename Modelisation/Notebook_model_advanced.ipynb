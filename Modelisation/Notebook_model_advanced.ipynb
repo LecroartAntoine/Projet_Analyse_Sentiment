{
 "cells": [
  {
   "cell_type": "markdown",
   "id": "71f98536",
   "metadata": {},
   "source": [
    "# Projet 7 : Réalisez une analyse de sentiments grâce au Deep Learning\n",
    "# Modèle sur mesure avancé\n",
    "\n",
    "[Lien OpenClassroom](https://openclassrooms.com/fr/paths/795/projects/1516/1578-mission)\n",
    "\n",
    "---"
   ]
  },
  {
   "cell_type": "markdown",
   "id": "07a7d68b",
   "metadata": {},
   "source": [
    "**Table of contents**<a id='toc0_'></a>    \n",
    "- [Imports](#toc1_)    \n",
    "- [Chargement des données](#toc2_)    \n",
    "  - [Chargement du fichier csv](#toc2_1_)    \n",
    "  - [Découpage du jeu de données](#toc2_2_)    \n",
    "- [Préparation et Tests](#toc3_)    \n",
    "  - [Variables Globales](#toc3_1_)    \n",
    "  - [Fonctions de préprocessing](#toc3_2_)    \n",
    "  - [ Test des approches de preprocessing](#toc3_3_)    \n",
    "  - [Application du meilleur préprocessing](#toc3_4_)    \n",
    "  - [Création d'un Tokenizer](#toc3_5_)    \n",
    "  - [Sauvegarde du Tokenizer](#toc3_6_)    \n",
    "  - [Chargement de GloVe Embeddings](#toc3_7_)    \n",
    "  - [Création du modèle](#toc3_8_)    \n",
    "- [Experiment 1: LSTM avec GloVe Embeddings](#toc4_)    \n",
    "  - [MLFlow Setup](#toc4_1_)    \n",
    "  - [Entrainement du modèle avec MLFlow](#toc4_2_)    \n",
    "- [Experiment 2: LSTM avec Embeddings Vièrges Entrainable](#toc5_)    \n",
    "  - [Entrainement du modèle avec MLFlow](#toc5_1_)    \n",
    "- [Evaluation et Selection](#toc6_)    \n",
    "  - [Selection du meilleur modèle (val_accuracy)](#toc6_1_)    \n",
    "  - [Evaluation du modèle sur les données de Test](#toc6_2_)    \n",
    "  - [Enregistrement du model](#toc6_3_)    \n",
    "- [Dashboard MLFlow](#toc7_)    \n",
    "\n",
    "<!-- vscode-jupyter-toc-config\n",
    "\tnumbering=false\n",
    "\tanchor=true\n",
    "\tflat=false\n",
    "\tminLevel=2\n",
    "\tmaxLevel=6\n",
    "\t/vscode-jupyter-toc-config -->\n",
    "<!-- THIS CELL WILL BE REPLACED ON TOC UPDATE. DO NOT WRITE YOUR TEXT IN THIS CELL -->"
   ]
  },
  {
   "cell_type": "markdown",
   "id": "8783740e",
   "metadata": {},
   "source": [
    "---\n",
    "---\n",
    "\n",
    "## <a id='toc1_'></a>[Imports](#toc0_)"
   ]
  },
  {
   "cell_type": "code",
   "execution_count": 30,
   "id": "1df1d88e",
   "metadata": {},
   "outputs": [],
   "source": [
    "import pandas as pd\n",
    "import numpy as np\n",
    "import tensorflow as tf\n",
    "from tensorflow.keras.preprocessing.text import Tokenizer\n",
    "from tensorflow.keras.preprocessing.sequence import pad_sequences\n",
    "from tensorflow.keras.layers import (\n",
    "    LSTM,\n",
    "    Dense,\n",
    "    Dropout,\n",
    "    Embedding,\n",
    "    Bidirectional,\n",
    "    Input,\n",
    ")\n",
    "from tensorflow.keras.models import Sequential\n",
    "from tensorflow.keras.callbacks import EarlyStopping\n",
    "from sklearn.metrics import (\n",
    "    accuracy_score,\n",
    "    precision_score,\n",
    "    recall_score,\n",
    "    f1_score,\n",
    "    classification_report,\n",
    "    confusion_matrix,\n",
    ")\n",
    "import mlflow\n",
    "import pickle\n",
    "import matplotlib.pyplot as plt\n",
    "import seaborn as sns\n",
    "import warnings\n",
    "import os\n",
    "\n",
    "from sklearn.model_selection import train_test_split\n",
    "import re\n",
    "import nltk\n",
    "from nltk.stem import WordNetLemmatizer\n",
    "from nltk.corpus import stopwords\n",
    "from nltk.tokenize import word_tokenize\n",
    "import contractions\n",
    "\n",
    "try:\n",
    "    stopwords.words(\"english\")\n",
    "except LookupError:\n",
    "    nltk.download(\"stopwords\")\n",
    "try:\n",
    "    word_tokenize(\"test\")\n",
    "except LookupError:\n",
    "    nltk.download(\"punkt\")\n",
    "try:\n",
    "    WordNetLemmatizer().lemmatize(\"cats\")\n",
    "except LookupError:\n",
    "    nltk.download(\"wordnet\")\n",
    "    nltk.download(\"omw-1.4\")\n",
    "\n",
    "lemmatizer = WordNetLemmatizer()\n",
    "stop_words = set(stopwords.words(\"english\"))\n",
    "\n",
    "warnings.filterwarnings(\"ignore\")\n",
    "tf.get_logger().setLevel(\"ERROR\")"
   ]
  },
  {
   "cell_type": "markdown",
   "id": "f641c0b8",
   "metadata": {},
   "source": [
    "---\n",
    "---\n",
    "\n",
    "## <a id='toc2_'></a>[Chargement des données](#toc0_)"
   ]
  },
  {
   "cell_type": "markdown",
   "id": "4dd4789f",
   "metadata": {},
   "source": [
    "---\n",
    "\n",
    "### <a id='toc2_1_'></a>[Chargement du fichier csv](#toc0_)"
   ]
  },
  {
   "cell_type": "code",
   "execution_count": 31,
   "id": "3f48e53b",
   "metadata": {},
   "outputs": [
    {
     "data": {
      "application/vnd.microsoft.datawrangler.viewer.v0+json": {
       "columns": [
        {
         "name": "index",
         "rawType": "int64",
         "type": "integer"
        },
        {
         "name": "tweet",
         "rawType": "object",
         "type": "string"
        },
        {
         "name": "label",
         "rawType": "int64",
         "type": "integer"
        }
       ],
       "ref": "01a47e52-f479-4114-8f28-81ed1d96c28c",
       "rows": [
        [
         "1503830",
         "@teach24_7 1) every now &amp; again, for fun!  2) dunno about that buddy, game 2 &amp; kobes is still beasting  got scary close though...",
         "1"
        ],
        [
         "177381",
         "maybe someday. i lova ya, friends!! my computer sucks  listening to coldplay&lt;3 tomorrow meet my bbff",
         "0"
        ],
        [
         "340226",
         "@MisterRo Does this mean that you aren't going to help me either?  Sniff.",
         "0"
        ],
        [
         "1450680",
         "@qillerm well... someone actually complained about it, and i happen to know about it  yeap, please do. not finalized",
         "1"
        ],
        [
         "816047",
         "@stokez haha i know!  ahh cant wait to go home!",
         "1"
        ],
        [
         "1109101",
         "goodnight everybody!!! buona notte!! ",
         "1"
        ],
        [
         "96580",
         "I need to grow balls and learn to kiss people sober. I miss you already. ",
         "0"
        ],
        [
         "910046",
         "having a creative party with me, myself, and moi ",
         "1"
        ],
        [
         "325867",
         "noticing some of the long-time java guys seem, well, less happy about JavaOne this year ",
         "0"
        ],
        [
         "121454",
         "bah.. it's monday already ",
         "0"
        ]
       ],
       "shape": {
        "columns": 2,
        "rows": 10
       }
      },
      "text/html": [
       "<div>\n",
       "<style scoped>\n",
       "    .dataframe tbody tr th:only-of-type {\n",
       "        vertical-align: middle;\n",
       "    }\n",
       "\n",
       "    .dataframe tbody tr th {\n",
       "        vertical-align: top;\n",
       "    }\n",
       "\n",
       "    .dataframe thead th {\n",
       "        text-align: right;\n",
       "    }\n",
       "</style>\n",
       "<table border=\"1\" class=\"dataframe\">\n",
       "  <thead>\n",
       "    <tr style=\"text-align: right;\">\n",
       "      <th></th>\n",
       "      <th>tweet</th>\n",
       "      <th>label</th>\n",
       "    </tr>\n",
       "  </thead>\n",
       "  <tbody>\n",
       "    <tr>\n",
       "      <th>1503830</th>\n",
       "      <td>@teach24_7 1) every now &amp;amp; again, for fun! ...</td>\n",
       "      <td>1</td>\n",
       "    </tr>\n",
       "    <tr>\n",
       "      <th>177381</th>\n",
       "      <td>maybe someday. i lova ya, friends!! my compute...</td>\n",
       "      <td>0</td>\n",
       "    </tr>\n",
       "    <tr>\n",
       "      <th>340226</th>\n",
       "      <td>@MisterRo Does this mean that you aren't going...</td>\n",
       "      <td>0</td>\n",
       "    </tr>\n",
       "    <tr>\n",
       "      <th>1450680</th>\n",
       "      <td>@qillerm well... someone actually complained a...</td>\n",
       "      <td>1</td>\n",
       "    </tr>\n",
       "    <tr>\n",
       "      <th>816047</th>\n",
       "      <td>@stokez haha i know!  ahh cant wait to go home!</td>\n",
       "      <td>1</td>\n",
       "    </tr>\n",
       "    <tr>\n",
       "      <th>1109101</th>\n",
       "      <td>goodnight everybody!!! buona notte!!</td>\n",
       "      <td>1</td>\n",
       "    </tr>\n",
       "    <tr>\n",
       "      <th>96580</th>\n",
       "      <td>I need to grow balls and learn to kiss people ...</td>\n",
       "      <td>0</td>\n",
       "    </tr>\n",
       "    <tr>\n",
       "      <th>910046</th>\n",
       "      <td>having a creative party with me, myself, and moi</td>\n",
       "      <td>1</td>\n",
       "    </tr>\n",
       "    <tr>\n",
       "      <th>325867</th>\n",
       "      <td>noticing some of the long-time java guys seem,...</td>\n",
       "      <td>0</td>\n",
       "    </tr>\n",
       "    <tr>\n",
       "      <th>121454</th>\n",
       "      <td>bah.. it's monday already</td>\n",
       "      <td>0</td>\n",
       "    </tr>\n",
       "  </tbody>\n",
       "</table>\n",
       "</div>"
      ],
      "text/plain": [
       "                                                     tweet  label\n",
       "1503830  @teach24_7 1) every now &amp; again, for fun! ...      1\n",
       "177381   maybe someday. i lova ya, friends!! my compute...      0\n",
       "340226   @MisterRo Does this mean that you aren't going...      0\n",
       "1450680  @qillerm well... someone actually complained a...      1\n",
       "816047     @stokez haha i know!  ahh cant wait to go home!      1\n",
       "1109101              goodnight everybody!!! buona notte!!       1\n",
       "96580    I need to grow balls and learn to kiss people ...      0\n",
       "910046   having a creative party with me, myself, and moi       1\n",
       "325867   noticing some of the long-time java guys seem,...      0\n",
       "121454                          bah.. it's monday already       0"
      ]
     },
     "execution_count": 31,
     "metadata": {},
     "output_type": "execute_result"
    }
   ],
   "source": [
    "DATA_PATH = \"./data.csv\"\n",
    "\n",
    "df = pd.read_csv(DATA_PATH)\n",
    "\n",
    "df.sample(10)"
   ]
  },
  {
   "cell_type": "markdown",
   "id": "dca708ed",
   "metadata": {},
   "source": [
    "---\n",
    "\n",
    "### <a id='toc2_2_'></a>[Découpage du jeu de données](#toc0_)\n",
    "\n",
    "Cette cellule est une répétition de la logique de division des données déjà vue. Elle redéfinit et effectue le découpage du jeu de données en trois parties : entraînement, validation et test. L'objectif est de garantir que les données sont correctement et stratifiquement séparées pour le développement et l'évaluation des modèles, avec des proportions fixes (70% entraînement, 15% validation, 15% test). La séparation stratifiée est cruciale pour maintenir la distribution des classes de sentiment dans chaque ensemble, ce qui est important pour les jeux de données déséquilibrés. Enfin, les dimensions des ensembles et la distribution des sentiments sont imprimées pour vérification."
   ]
  },
  {
   "cell_type": "code",
   "execution_count": 32,
   "id": "b2a6dd2e",
   "metadata": {},
   "outputs": [
    {
     "name": "stdout",
     "output_type": "stream",
     "text": [
      "Division des données terminée :\n",
      "Taille de l'ensemble d'entraînement :   X=(1120000,), y=(1120000,)\n",
      "Taille de l'ensemble de validation : X=(240000,), y=(240000,)\n",
      "Taille de l'ensemble de test :       X=(240000,), y=(240000,)\n",
      "\n",
      "Distribution des sentiments dans les ensembles :\n",
      "Entraînement :\n",
      " label\n",
      "1    0.5\n",
      "0    0.5\n",
      "Name: proportion, dtype: float64\n",
      "Validation :\n",
      " label\n",
      "0    0.5\n",
      "1    0.5\n",
      "Name: proportion, dtype: float64\n",
      "Test :\n",
      " label\n",
      "1    0.5\n",
      "0    0.5\n",
      "Name: proportion, dtype: float64\n"
     ]
    }
   ],
   "source": [
    "# Définir les features (X) et les labels (y)\n",
    "X = df[\"tweet\"]\n",
    "y = df[\"label\"]\n",
    "\n",
    "# Définir les tailles des ensembles de test et de validation\n",
    "TEST_SIZE = 0.15\n",
    "VALIDATION_SIZE = 0.15  # Relatif à la taille originale du dataset\n",
    "\n",
    "# Première division : entraînement vs. (validation + test)\n",
    "# X_temp et y_temp contiennent les données destinées aux ensembles de validation et de test\n",
    "X_train, X_temp, y_train, y_temp = train_test_split(\n",
    "    X,\n",
    "    y,\n",
    "    test_size=(VALIDATION_SIZE + TEST_SIZE),  # Taille combinée de l'ensemble temporaire\n",
    "    random_state=42,  # Pour garantir la reproductibilité des divisions\n",
    "    stratify=y,  # Pour maintenir la même distribution de labels dans les sous-ensembles\n",
    ")\n",
    "\n",
    "# Calculer la proportion de l'ensemble de validation par rapport à l'ensemble temporaire\n",
    "val_split_ratio = VALIDATION_SIZE / (VALIDATION_SIZE + TEST_SIZE)\n",
    "\n",
    "# Deuxième division : validation vs. test à partir de l'ensemble temporaire\n",
    "X_val, X_test, y_val, y_test = train_test_split(\n",
    "    X_temp,\n",
    "    y_temp,\n",
    "    test_size=(\n",
    "        1 - val_split_ratio\n",
    "    ),  # La portion restante de X_temp devient l'ensemble de test\n",
    "    random_state=42,\n",
    "    stratify=y_temp,  # Maintenir la distribution des labels dans le sous-ensemble temporaire\n",
    ")\n",
    "\n",
    "# Afficher les formes des ensembles après la division\n",
    "print(\"Division des données terminée :\")\n",
    "print(f\"Taille de l'ensemble d'entraînement :   X={X_train.shape}, y={y_train.shape}\")\n",
    "print(f\"Taille de l'ensemble de validation : X={X_val.shape}, y={y_val.shape}\")\n",
    "print(f\"Taille de l'ensemble de test :       X={X_test.shape}, y={y_test.shape}\")\n",
    "\n",
    "# Afficher la distribution des sentiments dans chaque ensemble pour vérification\n",
    "print(\"\\nDistribution des sentiments dans les ensembles :\")\n",
    "print(\"Entraînement :\\n\", y_train.value_counts(normalize=True))\n",
    "print(\"Validation :\\n\", y_val.value_counts(normalize=True))\n",
    "print(\"Test :\\n\", y_test.value_counts(normalize=True))"
   ]
  },
  {
   "cell_type": "markdown",
   "id": "428a64bc",
   "metadata": {},
   "source": [
    "---\n",
    "---\n",
    "\n",
    "## <a id='toc3_'></a>[Préparation et Tests](#toc0_)"
   ]
  },
  {
   "cell_type": "markdown",
   "id": "4309cbc8",
   "metadata": {},
   "source": [
    "---\n",
    "\n",
    "### <a id='toc3_1_'></a>[Variables Globales](#toc0_)"
   ]
  },
  {
   "cell_type": "code",
   "execution_count": 42,
   "id": "68b6d95f",
   "metadata": {},
   "outputs": [],
   "source": [
    "# Taille du vocabulaire à utiliser pour la tokenisation\n",
    "VOCAB_SIZE = 300\n",
    "# Longueur maximale des séquences de texte après padding/troncation\n",
    "MAX_SEQUENCE_LENGTH = 20\n",
    "\n",
    "# Chemin vers le fichier d'embeddings GloVe pré-entraînés\n",
    "GLOVE_PATH = \"./glove.6B.300d.txt\"\n",
    "# Dimension des vecteurs d'embeddings GloVe\n",
    "EMBEDDING_DIM = 300\n",
    "\n",
    "# Nombre d'époques d'entraînement pour le modèle\n",
    "EPOCHS = 10\n",
    "# Taille du lot (batch size) pour l'entraînement\n",
    "BATCH_SIZE = 512\n",
    "\n",
    "# Chemin d'artefact MLflow pour le tokenizer entraîné\n",
    "TOKENIZER_ARTIFACT_PATH = \"tokenizer\"\n",
    "\n",
    "# Chemin d'artefact MLflow pour le modèle de réseau de neurones entraîné\n",
    "MODEL_ARTIFACT_PATH = \"model\""
   ]
  },
  {
   "cell_type": "markdown",
   "id": "53f18b48",
   "metadata": {},
   "source": [
    "---\n",
    "### <a id='toc3_2_'></a>[Fonctions de préprocessing](#toc0_)\n",
    "\n",
    "Cette cellule est une redéfinition des trois fonctions de prétraitement du texte (preprocess_full, preprocess_no_stopwords, preprocess_none) qui ont déjà été présentées. Elles sont cruciales pour la préparation des données textuelles avant l'entraînement des modèles de NLP.\n",
    "\n",
    "preprocess_full : Effectue un nettoyage intensif, incluant la conversion en minuscules, l'expansion des contractions, la suppression des URLs, mentions, hashtags, nombres et caractères spéciaux, suivie de la tokenisation, de la suppression des mots vides et de la lemmatisation.\n",
    "\n",
    "preprocess_no_stopwords : Similaire à preprocess_full, mais elle maintient les mots vides dans le texte final.\n",
    "\n",
    "preprocess_none : Ne réalise aucun prétraitement, renvoyant le texte tel quel.\n",
    "\n",
    "La présence répétée de cette cellule suggère qu'elle pourrait être exécutée à plusieurs reprises ou qu'elle est destinée à être un bloc de code réutilisable pour différents pipelines de modélisation dans le notebook."
   ]
  },
  {
   "cell_type": "code",
   "execution_count": 34,
   "id": "ede41854",
   "metadata": {},
   "outputs": [],
   "source": [
    "def preprocess_full(text):\n",
    "    \"\"\"\n",
    "    Applique toutes les étapes de nettoyage du texte, y compris la suppression des mots vides.\n",
    "    \"\"\"\n",
    "    if not isinstance(text, str):\n",
    "        return \"\"\n",
    "\n",
    "    # Convertir le texte en minuscules\n",
    "    text = text.lower()\n",
    "    # Étendre les contractions (ex: \"don't\" -> \"do not\")\n",
    "    text = contractions.fix(text)\n",
    "    # Supprimer les URLs\n",
    "    text = re.sub(r\"http\\S+|www\\S+\", \"\", text)\n",
    "    # Supprimer les mentions (@user)\n",
    "    text = re.sub(r\"@\\w+\", \"\", text)\n",
    "    # Supprimer les hashtags (#tag)\n",
    "    text = re.sub(r\"#\\w+\", \"\", text)\n",
    "    # Supprimer les nombres\n",
    "    text = re.sub(r\"\\d+\", \"\", text)\n",
    "    # Supprimer les caractères spéciaux et la ponctuation (ne garder que les lettres et espaces)\n",
    "    text = re.sub(r\"[^a-z\\s]\", \"\", text)\n",
    "\n",
    "    # Tokeniser le texte en mots\n",
    "    tokens = word_tokenize(text)\n",
    "    cleaned_tokens = []\n",
    "    for word in tokens:\n",
    "        # Supprimer les mots vides et les mots d'une seule lettre, puis lemmatiser\n",
    "        if len(word) > 1 and word not in stop_words:\n",
    "            lemma = lemmatizer.lemmatize(word)\n",
    "            cleaned_tokens.append(lemma)\n",
    "    # Rejoindre les jetons nettoyés en une seule chaîne\n",
    "    return \" \".join(cleaned_tokens)\n",
    "\n",
    "\n",
    "def preprocess_no_stopwords(text):\n",
    "    \"\"\"\n",
    "    Applique toutes les étapes de nettoyage du texte, SAUF la suppression des mots vides.\n",
    "    \"\"\"\n",
    "    if not isinstance(text, str):\n",
    "        return \"\"\n",
    "\n",
    "    text = text.lower()\n",
    "    text = contractions.fix(text)\n",
    "    text = re.sub(r\"http\\S+|www\\S+\", \"\", text)\n",
    "    text = re.sub(r\"@\\w+\", \"\", text)\n",
    "    text = re.sub(r\"#\\w+\", \"\", text)\n",
    "    text = re.sub(r\"\\d+\", \"\", text)\n",
    "    text = re.sub(r\"[^a-z\\s]\", \"\", text)\n",
    "\n",
    "    tokens = word_tokenize(text)\n",
    "    cleaned_tokens = []\n",
    "    for word in tokens:\n",
    "        # Lemmatiser sans supprimer les mots vides\n",
    "        if len(word) > 1:\n",
    "            lemma = lemmatizer.lemmatize(word)\n",
    "            cleaned_tokens.append(lemma)\n",
    "    return \" \".join(cleaned_tokens)\n",
    "\n",
    "\n",
    "def preprocess_none(text):\n",
    "    \"\"\"\n",
    "    N'applique aucun prétraitement, retourne le texte tel quel (ou une chaîne vide si ce n'est pas une chaîne).\n",
    "    \"\"\"\n",
    "    if not isinstance(text, str):\n",
    "        return \"\"\n",
    "    return text"
   ]
  },
  {
   "cell_type": "markdown",
   "id": "c1ecf454",
   "metadata": {},
   "source": [
    "---\n",
    "\n",
    "### <a id='toc3_3_'></a>[ Test des approches de preprocessing](#toc0_)\n",
    "\n",
    "Cette cellule implémente le pipeline d'entraînement et d'évaluation pour un modèle de réseau de neurones LSTM, en explorant l'impact des différentes stratégies de prétraitement du texte.\n",
    "\n",
    "create_lstm_model : Définit l'architecture du modèle LSTM. Il inclut une couche d'embedding qui peut soit utiliser des poids pré-entraînés (GloVe) et être figée (trainable=False), soit être initialisée aléatoirement et entraînée (trainable=True). Le modèle se compose ensuite d'une couche LSTM et d'une couche Dense de sortie avec activation sigmoïde pour la classification binaire.\n",
    "\n",
    "train_eval_lstm : Gère l'ensemble du processus de préparation des données et d'entraînement/évaluation pour les modèles LSTM :\n",
    "\n",
    "- Tokenisation et Padding : Crée un Tokenizer Keras pour convertir les textes en séquences numériques et padde ces séquences pour qu'elles aient une longueur uniforme (MAX_SEQUENCE_LENGTH).\n",
    "\n",
    "- Chargement GloVe : La fonction tente de charger les embeddings GloVe et de construire une matrice d'embedding où chaque mot du vocabulaire du tokenizer est mappé à son vecteur GloVe correspondant.\n",
    "\n",
    "- Construction et Entraînement du Modèle : Appelle create_lstm_model avec les paramètres appropriés (embeddings GloVe ou entraînables). Le modèle est ensuite entraîné sur les données padées.\n",
    "\n",
    "- Évaluation : Prédit sur l'ensemble de test et calcule l'exactitude (accuracy) et le score F1.\n",
    "\n",
    "Boucle de Benchmarking : La cellule itère sur les mêmes configurations de prétraitement que précédemment (preprocess_none, preprocess_no_stopwords, preprocess_full). Pour chaque configuration, elle exécute l'entraînement et l'évaluation du LSTM avec les embeddings GloVe. Les résultats sont stockés dans results_log.\n",
    "\n",
    "L'objectif est d'évaluer la performance du modèle LSTM sous différentes conditions de prétraitement, afin de déterminer la combinaison optimale pour l'analyse de sentiment."
   ]
  },
  {
   "cell_type": "code",
   "execution_count": 35,
   "id": "163fa943",
   "metadata": {},
   "outputs": [
    {
     "name": "stdout",
     "output_type": "stream",
     "text": [
      "\n",
      "--- BENCHMARKING AVEC PRÉTRAITEMENT : Sans Prétraitement ---\n",
      "Entraînement LSTM avec GloVe\n"
     ]
    },
    {
     "name": "stderr",
     "output_type": "stream",
     "text": [
      "2025/06/17 19:29:55 INFO mlflow.utils.autologging_utils: Created MLflow autologging run with ID '2ee68e49a35342dead68760f3271964b', which will track hyperparameters, performance metrics, model artifacts, and lineage information for the current tensorflow workflow\n",
      "2025/06/17 19:29:55 WARNING mlflow.tensorflow: Encountered unexpected error while inferring batch size from training dataset: Sequential model 'sequential_5' has no defined input shape yet.\n",
      "2025/06/17 19:29:55 WARNING mlflow.tensorflow: Failed to log training dataset information to MLflow Tracking. Reason: 'Series' object has no attribute 'flatten'\n"
     ]
    },
    {
     "name": "stdout",
     "output_type": "stream",
     "text": [
      "Trouvé 400001 vecteurs de mots dans ./glove.6B.300d.txt.\n",
      "Création de la matrice d'embeddings...\n",
      "Converti 287 mots (12 manquants)\n",
      "Forme de la matrice d'embeddings : (300, 300)\n"
     ]
    },
    {
     "data": {
      "text/html": [
       "<pre style=\"white-space:pre;overflow-x:auto;line-height:normal;font-family:Menlo,'DejaVu Sans Mono',consolas,'Courier New',monospace\"></pre>\n"
      ],
      "text/plain": []
     },
     "metadata": {},
     "output_type": "display_data"
    },
    {
     "name": "stderr",
     "output_type": "stream",
     "text": [
      "WARNING:absl:You are saving your model as an HDF5 file via `model.save()` or `keras.saving.save_model(model)`. This file format is considered legacy. We recommend using instead the native Keras format, e.g. `model.save('my_model.keras')` or `keras.saving.save_model(model, 'my_model.keras')`. \n",
      "WARNING:absl:You are saving your model as an HDF5 file via `model.save()` or `keras.saving.save_model(model)`. This file format is considered legacy. We recommend using instead the native Keras format, e.g. `model.save('my_model.keras')` or `keras.saving.save_model(model, 'my_model.keras')`. \n"
     ]
    },
    {
     "name": "stdout",
     "output_type": "stream",
     "text": [
      "\u001b[1m1/1\u001b[0m \u001b[32m━━━━━━━━━━━━━━━━━━━━\u001b[0m\u001b[37m\u001b[0m \u001b[1m0s\u001b[0m 93ms/step\n",
      "\u001b[1m7500/7500\u001b[0m \u001b[32m━━━━━━━━━━━━━━━━━━━━\u001b[0m\u001b[37m\u001b[0m \u001b[1m9s\u001b[0m 1ms/step\n",
      "LSTM GloVe Accuracy: 0.7382, F1-Score: 0.7451\n",
      "\n",
      "--- BENCHMARKING AVEC PRÉTRAITEMENT : Tout Sauf Mots Vides ---\n",
      "Entraînement LSTM avec GloVe\n"
     ]
    },
    {
     "name": "stderr",
     "output_type": "stream",
     "text": [
      "2025/06/17 19:33:51 INFO mlflow.utils.autologging_utils: Created MLflow autologging run with ID 'c43cd9b16aec43cbacc8b59b5711503e', which will track hyperparameters, performance metrics, model artifacts, and lineage information for the current tensorflow workflow\n",
      "2025/06/17 19:33:51 WARNING mlflow.tensorflow: Encountered unexpected error while inferring batch size from training dataset: Sequential model 'sequential_6' has no defined input shape yet.\n",
      "2025/06/17 19:33:51 WARNING mlflow.tensorflow: Failed to log training dataset information to MLflow Tracking. Reason: 'Series' object has no attribute 'flatten'\n"
     ]
    },
    {
     "name": "stdout",
     "output_type": "stream",
     "text": [
      "Trouvé 400001 vecteurs de mots dans ./glove.6B.300d.txt.\n",
      "Création de la matrice d'embeddings...\n",
      "Converti 298 mots (1 manquants)\n",
      "Forme de la matrice d'embeddings : (300, 300)\n"
     ]
    },
    {
     "data": {
      "text/html": [
       "<pre style=\"white-space:pre;overflow-x:auto;line-height:normal;font-family:Menlo,'DejaVu Sans Mono',consolas,'Courier New',monospace\"></pre>\n"
      ],
      "text/plain": []
     },
     "metadata": {},
     "output_type": "display_data"
    },
    {
     "name": "stderr",
     "output_type": "stream",
     "text": [
      "WARNING:absl:You are saving your model as an HDF5 file via `model.save()` or `keras.saving.save_model(model)`. This file format is considered legacy. We recommend using instead the native Keras format, e.g. `model.save('my_model.keras')` or `keras.saving.save_model(model, 'my_model.keras')`. \n",
      "WARNING:absl:You are saving your model as an HDF5 file via `model.save()` or `keras.saving.save_model(model)`. This file format is considered legacy. We recommend using instead the native Keras format, e.g. `model.save('my_model.keras')` or `keras.saving.save_model(model, 'my_model.keras')`. \n"
     ]
    },
    {
     "name": "stdout",
     "output_type": "stream",
     "text": [
      "\u001b[1m1/1\u001b[0m \u001b[32m━━━━━━━━━━━━━━━━━━━━\u001b[0m\u001b[37m\u001b[0m \u001b[1m0s\u001b[0m 99ms/step\n",
      "\u001b[1m7500/7500\u001b[0m \u001b[32m━━━━━━━━━━━━━━━━━━━━\u001b[0m\u001b[37m\u001b[0m \u001b[1m9s\u001b[0m 1ms/step\n",
      "LSTM GloVe Accuracy: 0.7511, F1-Score: 0.7533\n",
      "\n",
      "--- BENCHMARKING AVEC PRÉTRAITEMENT : Tout Prétraitement ---\n",
      "Entraînement LSTM avec GloVe\n"
     ]
    },
    {
     "name": "stderr",
     "output_type": "stream",
     "text": [
      "2025/06/17 19:37:35 INFO mlflow.utils.autologging_utils: Created MLflow autologging run with ID '861671e563cd4ecebe426efdce4e33e4', which will track hyperparameters, performance metrics, model artifacts, and lineage information for the current tensorflow workflow\n",
      "2025/06/17 19:37:35 WARNING mlflow.tensorflow: Encountered unexpected error while inferring batch size from training dataset: Sequential model 'sequential_7' has no defined input shape yet.\n",
      "2025/06/17 19:37:35 WARNING mlflow.tensorflow: Failed to log training dataset information to MLflow Tracking. Reason: 'Series' object has no attribute 'flatten'\n"
     ]
    },
    {
     "name": "stdout",
     "output_type": "stream",
     "text": [
      "Trouvé 400001 vecteurs de mots dans ./glove.6B.300d.txt.\n",
      "Création de la matrice d'embeddings...\n",
      "Converti 297 mots (2 manquants)\n",
      "Forme de la matrice d'embeddings : (300, 300)\n"
     ]
    },
    {
     "data": {
      "text/html": [
       "<pre style=\"white-space:pre;overflow-x:auto;line-height:normal;font-family:Menlo,'DejaVu Sans Mono',consolas,'Courier New',monospace\"></pre>\n"
      ],
      "text/plain": []
     },
     "metadata": {},
     "output_type": "display_data"
    },
    {
     "name": "stderr",
     "output_type": "stream",
     "text": [
      "WARNING:absl:You are saving your model as an HDF5 file via `model.save()` or `keras.saving.save_model(model)`. This file format is considered legacy. We recommend using instead the native Keras format, e.g. `model.save('my_model.keras')` or `keras.saving.save_model(model, 'my_model.keras')`. \n",
      "WARNING:absl:You are saving your model as an HDF5 file via `model.save()` or `keras.saving.save_model(model)`. This file format is considered legacy. We recommend using instead the native Keras format, e.g. `model.save('my_model.keras')` or `keras.saving.save_model(model, 'my_model.keras')`. \n"
     ]
    },
    {
     "name": "stdout",
     "output_type": "stream",
     "text": [
      "\u001b[1m1/1\u001b[0m \u001b[32m━━━━━━━━━━━━━━━━━━━━\u001b[0m\u001b[37m\u001b[0m \u001b[1m0s\u001b[0m 90ms/step\n",
      "\u001b[1m7500/7500\u001b[0m \u001b[32m━━━━━━━━━━━━━━━━━━━━\u001b[0m\u001b[37m\u001b[0m \u001b[1m8s\u001b[0m 1ms/step\n",
      "LSTM GloVe Accuracy: 0.7060, F1-Score: 0.7111\n"
     ]
    }
   ],
   "source": [
    "def create_lstm_model(\n",
    "    vocab_size, embedding_dim, max_len, embedding_matrix=None, trainable_embedding=True\n",
    "):\n",
    "    \"\"\"\n",
    "    Crée un modèle LSTM de base pour la classification binaire.\n",
    "\n",
    "    Args:\n",
    "        vocab_size (int): Taille du vocabulaire.\n",
    "        embedding_dim (int): Dimension des embeddings.\n",
    "        max_len (int): Longueur maximale des séquences.\n",
    "        embedding_matrix (np.array, optional): Matrice d'embeddings pré-entraînés.\n",
    "        trainable_embedding (bool, optional): Indique si la couche d'embedding doit être entraînable.\n",
    "    \"\"\"\n",
    "    model = Sequential()\n",
    "    if embedding_matrix is not None:\n",
    "        # Utiliser des embeddings pré-entraînés (non entraînables par défaut)\n",
    "        model.add(\n",
    "            Embedding(\n",
    "                vocab_size,\n",
    "                embedding_dim,\n",
    "                weights=[embedding_matrix],\n",
    "                input_length=max_len,\n",
    "                trainable=False,  # Les poids des embeddings ne sont pas mis à jour\n",
    "            )\n",
    "        )\n",
    "    else:\n",
    "        # Utiliser une couche d'embedding entraînable à partir de zéro\n",
    "        model.add(\n",
    "            Embedding(\n",
    "                vocab_size,\n",
    "                embedding_dim,\n",
    "                input_length=max_len,\n",
    "                trainable=trainable_embedding,\n",
    "            )\n",
    "        )\n",
    "    # Ajouter une couche LSTM\n",
    "    model.add(LSTM(32))\n",
    "    # Ajouter une couche de sortie Dense avec activation sigmoïde pour classification binaire\n",
    "    model.add(Dense(1, activation=\"sigmoid\"))\n",
    "\n",
    "    # Compiler le modèle\n",
    "    model.compile(optimizer=\"adam\", loss=\"binary_crossentropy\", metrics=[\"accuracy\"])\n",
    "    return model\n",
    "\n",
    "\n",
    "def train_eval_lstm(\n",
    "    X_train_processed, y_train_labels, X_test_processed, y_test_labels, use_glove=False\n",
    "):\n",
    "    \"\"\"\n",
    "    Entraîne et évalue un modèle LSTM, avec ou sans embeddings GloVe pré-entraînés.\n",
    "\n",
    "    Args:\n",
    "        X_train_processed (list): Textes d'entraînement prétraités.\n",
    "        y_train_labels (pd.Series): Labels d'entraînement.\n",
    "        X_test_processed (list): Textes de test prétraités.\n",
    "        y_test_labels (pd.Series): Labels de test.\n",
    "        use_glove (bool, optional): Utiliser les embeddings GloVe si True, sinon entraîner les embeddings.\n",
    "    \"\"\"\n",
    "    print(\n",
    "        f\"Entraînement LSTM {'avec GloVe' if use_glove else 'avec Embeddings entraînables'}\"\n",
    "    )\n",
    "\n",
    "    # Initialiser et entraîner le tokenizer sur les données d'entraînement\n",
    "    tokenizer = Tokenizer(num_words=VOCAB_SIZE, oov_token=\"<oov>\")\n",
    "    tokenizer.fit_on_texts(X_train_processed)\n",
    "    word_index = tokenizer.word_index\n",
    "    # Ajuster la taille réelle du vocabulaire si elle est inférieure à VOCAB_SIZE\n",
    "    vocab_size = min(VOCAB_SIZE, len(word_index) + 1)\n",
    "\n",
    "    # Convertir les textes en séquences numériques\n",
    "    X_train_seq = tokenizer.texts_to_sequences(X_train_processed)\n",
    "    X_test_seq = tokenizer.texts_to_sequences(X_test_processed)\n",
    "    # Padder/tronquer les séquences pour avoir une longueur fixe\n",
    "    X_train_pad = pad_sequences(\n",
    "        X_train_seq, maxlen=MAX_SEQUENCE_LENGTH, padding=\"post\", truncating=\"post\"\n",
    "    )\n",
    "    X_test_pad = pad_sequences(\n",
    "        X_test_seq, maxlen=MAX_SEQUENCE_LENGTH, padding=\"post\", truncating=\"post\"\n",
    "    )\n",
    "\n",
    "    embedding_matrix = None\n",
    "    if use_glove:\n",
    "        # Charger les embeddings GloVe\n",
    "        embeddings_index = {}\n",
    "        try:\n",
    "            with open(GLOVE_PATH, encoding=\"utf-8\") as f:\n",
    "                for line in f:\n",
    "                    values = line.split()\n",
    "                    word = values[0]\n",
    "                    coefs = np.asarray(values[1:], dtype=\"float32\")\n",
    "                    embeddings_index[word] = coefs\n",
    "            print(f\"Trouvé {len(embeddings_index)} vecteurs de mots dans {GLOVE_PATH}.\")\n",
    "        except FileNotFoundError:\n",
    "            print(f\"Erreur : Fichier GloVe introuvable à {GLOVE_PATH}\")\n",
    "            print(\"Expérience GloVe ignorée.\")\n",
    "            embeddings_index = None\n",
    "        except Exception as e:\n",
    "            print(f\"Une erreur est survenue lors du chargement du fichier GloVe : {e}\")\n",
    "            embeddings_index = None\n",
    "\n",
    "        if embeddings_index:\n",
    "            print(\"Création de la matrice d'embeddings...\")\n",
    "            # Initialiser la matrice d'embeddings avec des zéros\n",
    "            embedding_matrix = np.zeros(\n",
    "                (min(VOCAB_SIZE, len(tokenizer.word_index) + 1), EMBEDDING_DIM)\n",
    "            )\n",
    "            hits = 0\n",
    "            misses = 0\n",
    "            # Remplir la matrice avec les vecteurs GloVe pour les mots du vocabulaire du tokenizer\n",
    "            for word, i in tokenizer.word_index.items():\n",
    "                if (\n",
    "                    i >= vocab_size\n",
    "                ):  # Ignorer les mots au-delà de la limite du vocabulaire\n",
    "                    continue\n",
    "                embedding_vector = embeddings_index.get(word)\n",
    "                if embedding_vector is not None:\n",
    "                    embedding_matrix[i] = embedding_vector\n",
    "                    hits += 1\n",
    "                else:\n",
    "                    misses += 1\n",
    "            print(f\"Converti {hits} mots ({misses} manquants)\")\n",
    "            print(f\"Forme de la matrice d'embeddings : {embedding_matrix.shape}\")\n",
    "\n",
    "        # Créer le modèle LSTM avec les embeddings GloVe\n",
    "        model = create_lstm_model(\n",
    "            vocab_size,\n",
    "            EMBEDDING_DIM,\n",
    "            MAX_SEQUENCE_LENGTH,\n",
    "            embedding_matrix=embedding_matrix,\n",
    "            trainable_embedding=False,  # Embeddings GloVe non entraînables\n",
    "        )\n",
    "    else:\n",
    "        # Créer le modèle LSTM avec des embeddings entraînables aléatoirement initialisés\n",
    "        model = create_lstm_model(\n",
    "            vocab_size, EMBEDDING_DIM, MAX_SEQUENCE_LENGTH, trainable_embedding=True\n",
    "        )\n",
    "\n",
    "    # Entraîner le modèle LSTM\n",
    "    model.fit(\n",
    "        X_train_pad,\n",
    "        y_train_labels,\n",
    "        epochs=2,  # Époques réduites pour un exemple rapide\n",
    "        batch_size=BATCH_SIZE,\n",
    "        validation_split=0.1,\n",
    "        verbose=0,  # Ne pas afficher la barre de progression\n",
    "    )\n",
    "\n",
    "    # Faire des prédictions sur l'ensemble de test\n",
    "    predictions_proba = model.predict(X_test_pad)\n",
    "    predictions = (\n",
    "        (predictions_proba > 0.5).astype(int).flatten()\n",
    "    )  # Convertir les probabilités en classes\n",
    "    true_labels = y_test_labels\n",
    "\n",
    "    # Calculer l'exactitude et le score F1\n",
    "    acc = accuracy_score(true_labels, predictions)\n",
    "    f1 = f1_score(true_labels, predictions, average=\"binary\")\n",
    "    return acc, f1\n",
    "\n",
    "\n",
    "# Définir les différentes configurations de prétraitement à tester\n",
    "preprocessing_configs = {\n",
    "    \"Sans Prétraitement\": preprocess_none,\n",
    "    \"Tout Sauf Mots Vides\": preprocess_no_stopwords,\n",
    "    \"Tout Prétraitement\": preprocess_full,\n",
    "}\n",
    "\n",
    "results_log = []  # Liste pour stocker les résultats de l'évaluation\n",
    "\n",
    "# Boucler sur chaque configuration de prétraitement\n",
    "for pp_name, pp_function in preprocessing_configs.items():\n",
    "    print(f\"\\n--- BENCHMARKING AVEC PRÉTRAITEMENT : {pp_name} ---\")\n",
    "\n",
    "    # Appliquer la fonction de prétraitement aux ensembles d'entraînement et de test\n",
    "    current_X_train = [pp_function(text) for text in X_train]\n",
    "    current_X_test = [pp_function(text) for text in X_test]\n",
    "\n",
    "    # --- LSTM avec Embeddings GloVe ---\n",
    "    acc, f1 = train_eval_lstm(\n",
    "        current_X_train, y_train, current_X_test, y_test, use_glove=True\n",
    "    )\n",
    "    results_log.append(\n",
    "        {\n",
    "            \"Modèle\": \"LSTM (GloVe Emb)\",.\n",
    "            \"Prétraitement\": pp_name,\n",
    "            \"Accuracy\": acc,\n",
    "            \"F1-Score\": f1,\n",
    "        }\n",
    "    )\n",
    "    print(f\"LSTM GloVe Accuracy: {acc:.4f}, F1-Score: {f1:.4f}\")"
   ]
  },
  {
   "cell_type": "markdown",
   "id": "ab79a113",
   "metadata": {},
   "source": [
    "---\n",
    "\n",
    "### <a id='toc3_4_'></a>[Application du meilleur préprocessing](#toc0_)\n",
    "\n",
    "Cette cellule applique une étape de prétraitement spécifique aux ensembles de données textuelles (X_train, X_val, X_test). Elle utilise la fonction preprocess_no_stopwords qui nettoie les textes (minuscules, expansion des contractions, suppression des URLs, mentions, hashtags, nombres et ponctuation) mais, comme son nom l'indique, ne supprime pas les mots vides (stop words). Cela prépare les données pour des modèles qui pourraient bénéficier de la présence des mots vides pour le contexte, comme certains modèles de réseaux de neurones ou d'embeddings de mots qui capturent la sémantique de phrases entières."
   ]
  },
  {
   "cell_type": "code",
   "execution_count": 36,
   "id": "d659f5be",
   "metadata": {},
   "outputs": [],
   "source": [
    "# Appliquer la fonction de prétraitement 'preprocess_no_stopwords' aux ensembles d'entraînement, de validation et de test\n",
    "# Cette fonction nettoie le texte mais conserve les mots vides.\n",
    "X_train = [preprocess_no_stopwords(text) for text in X_train]\n",
    "X_val = [preprocess_no_stopwords(text) for text in X_val]\n",
    "X_test = [preprocess_no_stopwords(text) for text in X_test]"
   ]
  },
  {
   "cell_type": "markdown",
   "id": "b75e45af",
   "metadata": {},
   "source": [
    "---\n",
    "\n",
    "### <a id='toc3_5_'></a>[Création d'un Tokenizer](#toc0_)\n",
    "\n",
    "Cette cellule gère la phase de tokenisation et de séquençage des données textuelles. Elle utilise le Tokenizer de Keras pour convertir les mots en identifiants numériques. Le tokenizer est ajusté uniquement sur l'ensemble d'entraînement pour éviter d'introduire des informations du test ou de la validation. Ensuite, tous les ensembles (entraînement, validation, test) sont transformés en séquences d'entiers et sont uniformisés en longueur via le padding (pad_sequences). Cela est essentiel pour préparer les données textuelles à être utilisées comme entrée pour des modèles de réseaux de neurones récurrents comme les LSTMs, qui nécessitent des entrées de longueur fixe. La taille effective du vocabulaire est également calculée et affichée."
   ]
  },
  {
   "cell_type": "code",
   "execution_count": 37,
   "id": "1754d1d7",
   "metadata": {},
   "outputs": [
    {
     "name": "stdout",
     "output_type": "stream",
     "text": [
      "Taille du vocabulaire réelle utilisée : 300\n",
      "Forme des séquences d'entraînement padées : (1120000, 20)\n",
      "Forme des séquences de validation padées : (240000, 20)\n",
      "Forme des séquences de test padées : (240000, 20)\n"
     ]
    }
   ],
   "source": [
    "# Initialiser le tokenizer Keras avec une taille de vocabulaire limitée et un jeton pour les mots hors-vocabulaire\n",
    "tokenizer = Tokenizer(num_words=VOCAB_SIZE, oov_token=\"<OOV>\")\n",
    "\n",
    "# Entraîner le tokenizer UNIQUEMENT sur les données d'entraînement pour éviter les fuites de données\n",
    "tokenizer.fit_on_texts(X_train)\n",
    "\n",
    "# Convertir les textes en séquences d'entiers basées sur le vocabulaire appris\n",
    "X_train_seq = tokenizer.texts_to_sequences(X_train)\n",
    "X_val_seq = tokenizer.texts_to_sequences(X_val)\n",
    "X_test_seq = tokenizer.texts_to_sequences(X_test)\n",
    "\n",
    "# Padder les séquences pour garantir une longueur uniforme (remplir après, tronquer après)\n",
    "X_train_pad = pad_sequences(\n",
    "    X_train_seq, maxlen=MAX_SEQUENCE_LENGTH, padding=\"post\", truncating=\"post\"\n",
    ")\n",
    "X_val_pad = pad_sequences(\n",
    "    X_val_seq, maxlen=MAX_SEQUENCE_LENGTH, padding=\"post\", truncating=\"post\"\n",
    ")\n",
    "X_test_pad = pad_sequences(\n",
    "    X_test_seq, maxlen=MAX_SEQUENCE_LENGTH, padding=\"post\", truncating=\"post\"\n",
    ")\n",
    "\n",
    "# Calculer la taille réelle du vocabulaire (incluant le jeton de padding)\n",
    "# Limité par VOCAB_SIZE ou la taille réelle du vocabulaire si elle est plus petite\n",
    "actual_vocab_size = min(VOCAB_SIZE, len(tokenizer.word_index) + 1)\n",
    "print(f\"Taille du vocabulaire réelle utilisée : {actual_vocab_size}\")\n",
    "print(f\"Forme des séquences d'entraînement padées : {X_train_pad.shape}\")\n",
    "print(f\"Forme des séquences de validation padées : {X_val_pad.shape}\")\n",
    "print(f\"Forme des séquences de test padées : {X_test_pad.shape}\")"
   ]
  },
  {
   "cell_type": "markdown",
   "id": "4b8e9e8f",
   "metadata": {},
   "source": [
    "---\n",
    "\n",
    "### <a id='toc3_7_'></a>[Chargement de GloVe Embeddings](#toc0_)\n",
    "\n",
    "Cette cellule est dédiée à la préparation de la matrice d'embeddings pré-entraînés GloVe. Elle tente d'abord de charger les vecteurs de mots depuis le fichier spécifié par GLOVE_PATH. Si le fichier est trouvé, il est parcouru ligne par ligne pour extraire les mots et leurs vecteurs correspondants, stockés dans un dictionnaire embeddings_index. En cas d'erreur (fichier non trouvé ou autre), un message est affiché et le processus GloVe est ignoré.\n",
    "\n",
    "Après le chargement (réussi), une matrice d'embedding (embedding_matrix) est créée. Cette matrice est dimensionnée pour correspondre au vocabulaire de notre tokenizer (actual_vocab_size) et à la dimension des embeddings (EMBEDDING_DIM). Elle est ensuite remplie : pour chaque mot présent dans le vocabulaire de notre tokenizer et trouvé dans les embeddings GloVe, le vecteur GloVe correspondant est copié dans la matrice. Les mots du vocabulaire du tokenizer qui ne sont pas trouvés dans GloVe sont représentés par des vecteurs de zéros dans la matrice d'embedding. Le nombre de \"hits\" (mots trouvés) et de \"misses\" (mots non trouvés) est affiché pour donner une idée de la couverture du vocabulaire par GloVe. Cette matrice sera ensuite utilisée pour initialiser la couche d'embedding de notre modèle de réseau de neurones."
   ]
  },
  {
   "cell_type": "code",
   "execution_count": 38,
   "id": "142412d1",
   "metadata": {},
   "outputs": [
    {
     "name": "stdout",
     "output_type": "stream",
     "text": [
      "Trouvé 400001 vecteurs de mots dans ./glove.6B.300d.txt.\n",
      "Création de la matrice d'embeddings...\n",
      "Converti 298 mots (1 manquants)\n",
      "Forme de la matrice d'embeddings : (300, 300)\n"
     ]
    }
   ],
   "source": [
    "# Initialiser un dictionnaire pour stocker les embeddings GloVe\n",
    "embeddings_index = {}\n",
    "try:\n",
    "    # Ouvrir le fichier GloVe et parser chaque ligne\n",
    "    with open(GLOVE_PATH, encoding=\"utf-8\") as f:\n",
    "        for line in f:\n",
    "            values = line.split()\n",
    "            word = values[0]\n",
    "            coefs = np.asarray(values[1:], dtype=\"float32\")\n",
    "            embeddings_index[word] = coefs\n",
    "    print(f\"Trouvé {len(embeddings_index)} vecteurs de mots dans {GLOVE_PATH}.\")\n",
    "except FileNotFoundError:\n",
    "    print(f\"Erreur : Fichier GloVe introuvable à {GLOVE_PATH}\")\n",
    "    print(\"Expérience GloVe ignorée.\")\n",
    "    embeddings_index = None  # S'assurer que la variable existe mais est None\n",
    "except Exception as e:\n",
    "    print(f\"Une erreur est survenue lors du chargement du fichier GloVe : {e}\")\n",
    "    embeddings_index = None\n",
    "\n",
    "# Créer la matrice d'embeddings à partir des embeddings GloVe et du vocabulaire du tokenizer\n",
    "embedding_matrix = None\n",
    "if embeddings_index:\n",
    "    print(\"Création de la matrice d'embeddings...\")\n",
    "    # Initialiser la matrice d'embeddings avec des zéros\n",
    "    embedding_matrix = np.zeros((actual_vocab_size, EMBEDDING_DIM))\n",
    "    hits = 0\n",
    "    misses = 0\n",
    "    # Remplir la matrice avec les vecteurs GloVe pour les mots présents dans le vocabulaire de notre tokenizer\n",
    "    for word, i in tokenizer.word_index.items():\n",
    "        if (\n",
    "            i >= actual_vocab_size\n",
    "        ):  # Ignorer les mots au-delà de la taille de vocabulaire définie\n",
    "            continue\n",
    "        embedding_vector = embeddings_index.get(word)\n",
    "        if embedding_vector is not None:\n",
    "            # Les mots trouvés dans GloVe reçoivent leur vecteur\n",
    "            embedding_matrix[i] = embedding_vector\n",
    "            hits += 1\n",
    "        else:\n",
    "            # Les mots non trouvés dans GloVe restent avec un vecteur de zéros\n",
    "            misses += 1\n",
    "    print(f\"Converti {hits} mots ({misses} manquants)\")\n",
    "    print(f\"Forme de la matrice d'embeddings : {embedding_matrix.shape}\")"
   ]
  },
  {
   "cell_type": "markdown",
   "id": "9dbe4456",
   "metadata": {},
   "source": [
    "---\n",
    "\n",
    "### <a id='toc3_8_'></a>[Création du modèle](#toc0_)\n",
    "\n",
    "Cette cellule définit la fonction build_lstm_model qui construit une architecture de réseau de neurones LSTM pour la classification de texte. Le modèle intègre une couche d'embedding qui peut être initialisée avec des poids pré-entraînés (par exemple, GloVe) et figée, ou entraînée à partir de zéro. L'architecture optimisée comprend deux couches LSTM (la première retournant des séquences, la seconde non), suivies d'une couche Dense avec activation ReLU, d'une couche Dropout pour la régularisation, et enfin d'une couche Dense de sortie avec activation sigmoïde pour la classification binaire. Le modèle est compilé avec une perte de 'binary_crossentropy', l'optimiseur 'adamax' et la métrique 'accuracy'."
   ]
  },
  {
   "cell_type": "code",
   "execution_count": 47,
   "id": "b53c9f41",
   "metadata": {},
   "outputs": [],
   "source": [
    "def build_lstm_model(\n",
    "    vocab_size,\n",
    "    embedding_dim,\n",
    "    max_length,\n",
    "    embedding_matrix=None,\n",
    "    is_embedding_trainable=False,\n",
    "):\n",
    "    \"\"\"\n",
    "    Construit un modèle LSTM optimisé pour la classification de texte.\n",
    "\n",
    "    Args:\n",
    "        vocab_size (int): Taille du vocabulaire.\n",
    "        embedding_dim (int): Dimension des embeddings.\n",
    "        max_length (int): Longueur maximale des séquences d'entrée.\n",
    "        embedding_matrix (np.array, optional): Matrice d'embeddings pré-entraînés.\n",
    "        is_embedding_trainable (bool, optional): Si la couche d'embedding doit être entraînable.\n",
    "    \"\"\"\n",
    "\n",
    "    model = Sequential()\n",
    "\n",
    "    # Couche d'entrée pour définir la forme des séquences\n",
    "    model.add(Input(shape=(max_length,)))\n",
    "\n",
    "    # Couche d'embedding\n",
    "    if embedding_matrix is not None:\n",
    "        print(\"Utilisation de la matrice d'embeddings pré-entraînés.\")\n",
    "        model.add(\n",
    "            Embedding(\n",
    "                input_dim=vocab_size,\n",
    "                output_dim=embedding_dim,\n",
    "                weights=[embedding_matrix],  # Utiliser les poids pré-entraînés\n",
    "                input_length=max_length,\n",
    "                trainable=is_embedding_trainable,  # Définir si les poids sont mis à jour\n",
    "            )\n",
    "        )\n",
    "    else:\n",
    "        print(\"Utilisation d'une couche d'embeddings entraînables.\")\n",
    "        model.add(\n",
    "            Embedding(\n",
    "                input_dim=vocab_size,\n",
    "                output_dim=embedding_dim,\n",
    "                input_length=max_length,\n",
    "                trainable=is_embedding_trainable,\n",
    "            )\n",
    "        )\n",
    "\n",
    "    # Deuxième couche LSTM avec dropout récurrent (ne retourne pas de séquences)\n",
    "    model.add(Bidirectional(LSTM(64, dropout=0.1, recurrent_dropout=0.1)))\n",
    "\n",
    "    # Couche de sortie Dense pour la classification binaire (activation sigmoïde)\n",
    "    model.add(Dense(1, activation=\"sigmoid\"))\n",
    "\n",
    "    # Compiler le modèle avec une fonction de perte binaire, un optimiseur et des métriques\n",
    "    model.compile(loss=\"binary_crossentropy\", optimizer=\"adamax\", metrics=[\"accuracy\"])\n",
    "\n",
    "    return model"
   ]
  },
  {
   "cell_type": "markdown",
   "id": "897d5ab8",
   "metadata": {},
   "source": [
    "---\n",
    "\n",
    "### <a id='toc4_1_'></a>[MLFlow Setup](#toc0_)"
   ]
  },
  {
   "cell_type": "code",
   "execution_count": 48,
   "id": "f742b283",
   "metadata": {},
   "outputs": [
    {
     "name": "stdout",
     "output_type": "stream",
     "text": [
      "Expérience MLflow définie sur : 'Tweet Sentiment Analysis - Advanced DL'\n"
     ]
    }
   ],
   "source": [
    "# Nom de l'expérience MLflow pour le suivi des modèles de Deep Learning avancés\n",
    "EXPERIMENT_NAME = \"Tweet Sentiment Analysis - Advanced DL\"\n",
    "# Définir l'expérience MLflow actuelle\n",
    "mlflow.set_experiment(EXPERIMENT_NAME)\n",
    "print(f\"Expérience MLflow définie sur : '{EXPERIMENT_NAME}'\")"
   ]
  },
  {
   "cell_type": "markdown",
   "id": "e14f25c2",
   "metadata": {},
   "source": [
    "---\n",
    "---\n",
    "\n",
    "## <a id='toc4_'></a>[Experiment 1: LSTM avec GloVe Embeddings](#toc0_)"
   ]
  },
  {
   "cell_type": "markdown",
   "id": "3db11349",
   "metadata": {},
   "source": [
    "---\n",
    "\n",
    "### <a id='toc4_2_'></a>[Entrainement du modèle avec MLFlow](#toc0_)\n",
    "\n",
    "Cette cellule lance une exécution MLflow dédiée à l'entraînement et à la journalisation d'un modèle LSTM utilisant des embeddings GloVe pré-entraînés.\n",
    "\n",
    "Configuration MLflow : Elle définit un nom pour l'exécution et active l'autologging de TensorFlow/Keras, ce qui permet à MLflow de capturer automatiquement les hyperparamètres, métriques et le modèle lui-même.\n",
    "\n",
    "Paramètres de l'Expérience : Plusieurs paramètres clés liés à l'architecture du modèle (type d'embedding, taille du vocabulaire, longueur de séquence, etc.) et au processus d'entraînement (époques, batch size) sont explicitement loggés dans MLflow.\n",
    "\n",
    "Construction du Modèle : Le modèle LSTM est construit en utilisant la fonction build_lstm_model, en lui passant la matrice d'embeddings GloVe pré-entraînée. Les embeddings sont configurés pour être non entraînables.\n",
    "\n",
    "Entraînement : Le modèle est entraîné sur l'ensemble d'entraînement (X_train_pad, y_train), avec l'ensemble de validation (X_val_pad, y_val) utilisé pour le suivi des performances. Un callback EarlyStopping est mis en place pour arrêter l'entraînement si la précision de validation ne s'améliore pas après un certain nombre d'époques, aidant à prévenir le surapprentissage.\n",
    "\n",
    "Journalisation des Artefacts : Après l'entraînement, le tokenizer Keras (essentiel pour convertir de nouveaux textes en séquences numériques pour la prédiction) est sauvegardé localement puis journalisé en tant qu'artefact MLflow.\n",
    "\n",
    "L'objectif de cette exécution est d'entraîner et d'enregistrer un modèle LSTM performant avec des embeddings GloVe, tout en capturant toutes les métadonnées et artefacts pertinents dans MLflow pour une traçabilité complète et une reproductibilité future."
   ]
  },
  {
   "cell_type": "code",
   "execution_count": 49,
   "id": "456ea880",
   "metadata": {},
   "outputs": [
    {
     "name": "stderr",
     "output_type": "stream",
     "text": [
      "2025/06/17 20:10:11 WARNING mlflow.tensorflow: Failed to log training dataset information to MLflow Tracking. Reason: 'Series' object has no attribute 'flatten'\n"
     ]
    },
    {
     "name": "stdout",
     "output_type": "stream",
     "text": [
      "\n",
      "--- Démarrage de l'exécution MLflow pour : LSTM_GloVe_Embeddings ---\n",
      "ID de l'exécution MLflow (GloVe) : 62b7b12d38624eb4959f52a64e2d39f4\n",
      "Utilisation de la matrice d'embeddings pré-entraînés.\n",
      "\n",
      "Entraînement du modèle LSTM avec embeddings GloVe...\n"
     ]
    },
    {
     "data": {
      "text/html": [
       "<pre style=\"white-space:pre;overflow-x:auto;line-height:normal;font-family:Menlo,'DejaVu Sans Mono',consolas,'Courier New',monospace\"></pre>\n"
      ],
      "text/plain": []
     },
     "metadata": {},
     "output_type": "display_data"
    },
    {
     "name": "stdout",
     "output_type": "stream",
     "text": [
      "Epoch 1/10\n"
     ]
    },
    {
     "name": "stderr",
     "output_type": "stream",
     "text": [
      "WARNING:absl:You are saving your model as an HDF5 file via `model.save()` or `keras.saving.save_model(model)`. This file format is considered legacy. We recommend using instead the native Keras format, e.g. `model.save('my_model.keras')` or `keras.saving.save_model(model, 'my_model.keras')`. \n"
     ]
    },
    {
     "name": "stdout",
     "output_type": "stream",
     "text": [
      "2188/2188 - 93s - 42ms/step - accuracy: 0.7213 - loss: 0.5420 - val_accuracy: 0.7395 - val_loss: 0.5149\n",
      "Epoch 2/10\n"
     ]
    },
    {
     "name": "stderr",
     "output_type": "stream",
     "text": [
      "WARNING:absl:You are saving your model as an HDF5 file via `model.save()` or `keras.saving.save_model(model)`. This file format is considered legacy. We recommend using instead the native Keras format, e.g. `model.save('my_model.keras')` or `keras.saving.save_model(model, 'my_model.keras')`. \n"
     ]
    },
    {
     "name": "stdout",
     "output_type": "stream",
     "text": [
      "2188/2188 - 93s - 42ms/step - accuracy: 0.7404 - loss: 0.5152 - val_accuracy: 0.7474 - val_loss: 0.5028\n",
      "Epoch 3/10\n"
     ]
    },
    {
     "name": "stderr",
     "output_type": "stream",
     "text": [
      "WARNING:absl:You are saving your model as an HDF5 file via `model.save()` or `keras.saving.save_model(model)`. This file format is considered legacy. We recommend using instead the native Keras format, e.g. `model.save('my_model.keras')` or `keras.saving.save_model(model, 'my_model.keras')`. \n"
     ]
    },
    {
     "name": "stdout",
     "output_type": "stream",
     "text": [
      "2188/2188 - 92s - 42ms/step - accuracy: 0.7464 - loss: 0.5056 - val_accuracy: 0.7502 - val_loss: 0.4984\n",
      "Epoch 4/10\n"
     ]
    },
    {
     "name": "stderr",
     "output_type": "stream",
     "text": [
      "WARNING:absl:You are saving your model as an HDF5 file via `model.save()` or `keras.saving.save_model(model)`. This file format is considered legacy. We recommend using instead the native Keras format, e.g. `model.save('my_model.keras')` or `keras.saving.save_model(model, 'my_model.keras')`. \n"
     ]
    },
    {
     "name": "stdout",
     "output_type": "stream",
     "text": [
      "2188/2188 - 92s - 42ms/step - accuracy: 0.7508 - loss: 0.4993 - val_accuracy: 0.7546 - val_loss: 0.4923\n",
      "Epoch 5/10\n",
      "2188/2188 - 92s - 42ms/step - accuracy: 0.7537 - loss: 0.4947 - val_accuracy: 0.7544 - val_loss: 0.4927\n",
      "Epoch 6/10\n"
     ]
    },
    {
     "name": "stderr",
     "output_type": "stream",
     "text": [
      "WARNING:absl:You are saving your model as an HDF5 file via `model.save()` or `keras.saving.save_model(model)`. This file format is considered legacy. We recommend using instead the native Keras format, e.g. `model.save('my_model.keras')` or `keras.saving.save_model(model, 'my_model.keras')`. \n"
     ]
    },
    {
     "name": "stdout",
     "output_type": "stream",
     "text": [
      "2188/2188 - 94s - 43ms/step - accuracy: 0.7564 - loss: 0.4908 - val_accuracy: 0.7570 - val_loss: 0.4892\n",
      "Epoch 7/10\n"
     ]
    },
    {
     "name": "stderr",
     "output_type": "stream",
     "text": [
      "WARNING:absl:You are saving your model as an HDF5 file via `model.save()` or `keras.saving.save_model(model)`. This file format is considered legacy. We recommend using instead the native Keras format, e.g. `model.save('my_model.keras')` or `keras.saving.save_model(model, 'my_model.keras')`. \n"
     ]
    },
    {
     "name": "stdout",
     "output_type": "stream",
     "text": [
      "2188/2188 - 94s - 43ms/step - accuracy: 0.7582 - loss: 0.4877 - val_accuracy: 0.7600 - val_loss: 0.4848\n",
      "Epoch 8/10\n"
     ]
    },
    {
     "name": "stderr",
     "output_type": "stream",
     "text": [
      "WARNING:absl:You are saving your model as an HDF5 file via `model.save()` or `keras.saving.save_model(model)`. This file format is considered legacy. We recommend using instead the native Keras format, e.g. `model.save('my_model.keras')` or `keras.saving.save_model(model, 'my_model.keras')`. \n"
     ]
    },
    {
     "name": "stdout",
     "output_type": "stream",
     "text": [
      "2188/2188 - 95s - 44ms/step - accuracy: 0.7598 - loss: 0.4851 - val_accuracy: 0.7615 - val_loss: 0.4832\n",
      "Epoch 9/10\n"
     ]
    },
    {
     "name": "stderr",
     "output_type": "stream",
     "text": [
      "WARNING:absl:You are saving your model as an HDF5 file via `model.save()` or `keras.saving.save_model(model)`. This file format is considered legacy. We recommend using instead the native Keras format, e.g. `model.save('my_model.keras')` or `keras.saving.save_model(model, 'my_model.keras')`. \n"
     ]
    },
    {
     "name": "stdout",
     "output_type": "stream",
     "text": [
      "2188/2188 - 95s - 43ms/step - accuracy: 0.7613 - loss: 0.4828 - val_accuracy: 0.7625 - val_loss: 0.4820\n",
      "Epoch 10/10\n",
      "2188/2188 - 95s - 43ms/step - accuracy: 0.7628 - loss: 0.4804 - val_accuracy: 0.7618 - val_loss: 0.4824\n",
      "\u001b[1m1/1\u001b[0m \u001b[32m━━━━━━━━━━━━━━━━━━━━\u001b[0m\u001b[37m\u001b[0m \u001b[1m0s\u001b[0m 336ms/step\n",
      "Entraînement du modèle GloVe terminé.\n",
      "--- Exécution MLflow 62b7b12d38624eb4959f52a64e2d39f4 terminée ---\n"
     ]
    }
   ],
   "source": [
    "# Nom de l'exécution MLflow pour ce modèle spécifique\n",
    "run_name = \"LSTM_GloVe_Embeddings\"\n",
    "\n",
    "print(f\"\\n--- Démarrage de l'exécution MLflow pour : {run_name} ---\")\n",
    "\n",
    "# Activer l'autologging pour TensorFlow/Keras avec MLflow\n",
    "# Cela permet à MLflow de logger automatiquement les paramètres, métriques et modèles\n",
    "mlflow.tensorflow.autolog(\n",
    "    log_models=True,  # Journaliser le modèle entraîné\n",
    "    disable=False,\n",
    "    registered_model_name=None,  # Ne pas enregistrer automatiquement dans le registre de modèles\n",
    ")\n",
    "\n",
    "# Démarrer une nouvelle exécution MLflow\n",
    "with mlflow.start_run(run_name=run_name) as run:\n",
    "    run_id = run.info.run_id\n",
    "    print(f\"ID de l'exécution MLflow (GloVe) : {run_id}\")\n",
    "\n",
    "    # --- Enregistrer les paramètres de l'expérience ---\n",
    "    mlflow.log_param(\"type_embedding\", \"GloVe (Non Entraînable)\")\n",
    "    mlflow.log_param(\"taille_vocabulaire\", actual_vocab_size)\n",
    "    mlflow.log_param(\"longueur_max_sequence\", MAX_SEQUENCE_LENGTH)\n",
    "    mlflow.log_param(\"dimension_embedding\", EMBEDDING_DIM)\n",
    "    mlflow.log_param(\"epochs\", EPOCHS)\n",
    "    mlflow.log_param(\"taille_batch\", BATCH_SIZE)\n",
    "    mlflow.log_param(\"architecture\", \"Input-Embedding-LSTM-LSTM-Dense-Dropout-Dense\")\n",
    "\n",
    "    # --- Construire le modèle ---\n",
    "    model_glove = build_lstm_model(\n",
    "        vocab_size=actual_vocab_size,\n",
    "        embedding_dim=EMBEDDING_DIM,\n",
    "        max_length=MAX_SEQUENCE_LENGTH,\n",
    "        embedding_matrix=embedding_matrix,  # Utiliser la matrice GloVe\n",
    "        is_embedding_trainable=False,  # Les embeddings GloVe ne sont pas entraînables\n",
    "    )\n",
    "\n",
    "    # --- Callbacks d'entraînement ---\n",
    "    # Arrêt précoce basé sur la précision de validation\n",
    "    early_stopping = EarlyStopping(\n",
    "        monitor=\"val_accuracy\", patience=3, restore_best_weights=True\n",
    "    )\n",
    "\n",
    "    # --- Entraîner le modèle ---\n",
    "    print(\"\\nEntraînement du modèle LSTM avec embeddings GloVe...\")\n",
    "    history_glove = model_glove.fit(\n",
    "        X_train_pad,\n",
    "        y_train,\n",
    "        epochs=EPOCHS,\n",
    "        batch_size=BATCH_SIZE,\n",
    "        validation_data=(X_val_pad, y_val),\n",
    "        callbacks=[early_stopping],\n",
    "        verbose=2,  # Afficher les logs d'entraînement par époque\n",
    "    )\n",
    "    print(\"Entraînement du modèle GloVe terminé.\")\n",
    "\n",
    "    # --- Sauvegarder et journaliser le tokenizer ---\n",
    "    # Sauvegarder le tokenizer localement (nécessaire pour recréer l'environnement de prédiction)\n",
    "    with open(\"./advance_exp_1_tokenizer.pkl\", \"wb\") as f:\n",
    "        pickle.dump(tokenizer, f)\n",
    "    # Journaliser le tokenizer en tant qu'artefact MLflow\n",
    "    mlflow.log_artifact(\n",
    "        \"advance_exp_1_tokenizer.pkl\", artifact_path=TOKENIZER_ARTIFACT_PATH\n",
    "    )\n",
    "\n",
    "    print(f\"--- Exécution MLflow {run_id} terminée ---\")"
   ]
  },
  {
   "cell_type": "markdown",
   "id": "34dd5ee9",
   "metadata": {},
   "source": [
    "---\n",
    "---\n",
    "\n",
    "## <a id='toc5_'></a>[Experiment 2: LSTM avec Embeddings Vièrges Entrainable](#toc0_)"
   ]
  },
  {
   "cell_type": "markdown",
   "id": "55139f86",
   "metadata": {},
   "source": [
    "---\n",
    "\n",
    "### <a id='toc5_1_'></a>[Entrainement du modèle avec MLFlow](#toc0_)\n",
    "\n",
    "Cette cellule est une deuxième exécution MLflow pour l'entraînement d'un modèle LSTM, cette fois-ci avec des embeddings entraînables plutôt que pré-entraînés.\n",
    "\n",
    "Configuration MLflow : Similaire à la cellule précédente, elle définit un nom d'exécution (LSTM_Trainable_Embeddings) et active l'autologging de TensorFlow/Keras.\n",
    "\n",
    "Paramètres de l'Expérience : Les paramètres du modèle et du processus d'entraînement sont loggés, notamment la taille_vocabulaire, longueur_max_sequence, dimension_embedding, etc. Une note d'incohérence est signalée concernant la description de l'architecture par rapport à la fonction build_lstm_model.\n",
    "\n",
    "Construction du Modèle : Le modèle LSTM est construit en appelant build_lstm_model avec embedding_matrix=None et is_embedding_trainable=True. Cela indique à la couche d'embedding d'être initialisée aléatoirement et d'ajuster ses poids pendant l'entraînement.\n",
    "\n",
    "Entraînement : Le modèle est entraîné sur l'ensemble d'entraînement avec validation sur l'ensemble de validation, et utilise également l'EarlyStopping pour éviter le surapprentissage.\n",
    "\n",
    "Journalisation des Artefacts : Le tokenizer Keras est de nouveau sauvegardé localement et journalisé en tant qu'artefact MLflow.\n",
    "\n",
    "L'objectif de cette exécution est d'évaluer les performances du modèle LSTM lorsque les embeddings sont appris directement à partir des données de l'entraînement, et de comparer ces résultats avec ceux obtenus en utilisant des embeddings pré-entraînés (GloVe)."
   ]
  },
  {
   "cell_type": "code",
   "execution_count": 50,
   "id": "f01781e8",
   "metadata": {},
   "outputs": [
    {
     "name": "stderr",
     "output_type": "stream",
     "text": [
      "2025/06/17 20:25:53 WARNING mlflow.tensorflow: Failed to log training dataset information to MLflow Tracking. Reason: 'Series' object has no attribute 'flatten'\n"
     ]
    },
    {
     "name": "stdout",
     "output_type": "stream",
     "text": [
      "\n",
      "--- Démarrage de l'exécution MLflow pour : LSTM_Trainable_Embeddings ---\n",
      "ID de l'exécution MLflow (Entraînable) : 013e9bc88fe3453e947d3dc74bd6b7e8\n",
      "Utilisation d'une couche d'embeddings entraînables.\n",
      "\n",
      "Entraînement du modèle LSTM avec embeddings entraînables...\n"
     ]
    },
    {
     "data": {
      "text/html": [
       "<pre style=\"white-space:pre;overflow-x:auto;line-height:normal;font-family:Menlo,'DejaVu Sans Mono',consolas,'Courier New',monospace\"></pre>\n"
      ],
      "text/plain": []
     },
     "metadata": {},
     "output_type": "display_data"
    },
    {
     "name": "stdout",
     "output_type": "stream",
     "text": [
      "Epoch 1/10\n"
     ]
    },
    {
     "name": "stderr",
     "output_type": "stream",
     "text": [
      "WARNING:absl:You are saving your model as an HDF5 file via `model.save()` or `keras.saving.save_model(model)`. This file format is considered legacy. We recommend using instead the native Keras format, e.g. `model.save('my_model.keras')` or `keras.saving.save_model(model, 'my_model.keras')`. \n"
     ]
    },
    {
     "name": "stdout",
     "output_type": "stream",
     "text": [
      "2188/2188 - 123s - 56ms/step - accuracy: 0.7250 - loss: 0.5379 - val_accuracy: 0.7354 - val_loss: 0.5205\n",
      "Epoch 2/10\n"
     ]
    },
    {
     "name": "stderr",
     "output_type": "stream",
     "text": [
      "WARNING:absl:You are saving your model as an HDF5 file via `model.save()` or `keras.saving.save_model(model)`. This file format is considered legacy. We recommend using instead the native Keras format, e.g. `model.save('my_model.keras')` or `keras.saving.save_model(model, 'my_model.keras')`. \n"
     ]
    },
    {
     "name": "stdout",
     "output_type": "stream",
     "text": [
      "2188/2188 - 116s - 53ms/step - accuracy: 0.7384 - loss: 0.5167 - val_accuracy: 0.7429 - val_loss: 0.5088\n",
      "Epoch 3/10\n"
     ]
    },
    {
     "name": "stderr",
     "output_type": "stream",
     "text": [
      "WARNING:absl:You are saving your model as an HDF5 file via `model.save()` or `keras.saving.save_model(model)`. This file format is considered legacy. We recommend using instead the native Keras format, e.g. `model.save('my_model.keras')` or `keras.saving.save_model(model, 'my_model.keras')`. \n"
     ]
    },
    {
     "name": "stdout",
     "output_type": "stream",
     "text": [
      "2188/2188 - 117s - 53ms/step - accuracy: 0.7436 - loss: 0.5087 - val_accuracy: 0.7463 - val_loss: 0.5037\n",
      "Epoch 4/10\n"
     ]
    },
    {
     "name": "stderr",
     "output_type": "stream",
     "text": [
      "WARNING:absl:You are saving your model as an HDF5 file via `model.save()` or `keras.saving.save_model(model)`. This file format is considered legacy. We recommend using instead the native Keras format, e.g. `model.save('my_model.keras')` or `keras.saving.save_model(model, 'my_model.keras')`. \n"
     ]
    },
    {
     "name": "stdout",
     "output_type": "stream",
     "text": [
      "2188/2188 - 117s - 54ms/step - accuracy: 0.7473 - loss: 0.5033 - val_accuracy: 0.7489 - val_loss: 0.4999\n",
      "Epoch 5/10\n"
     ]
    },
    {
     "name": "stderr",
     "output_type": "stream",
     "text": [
      "WARNING:absl:You are saving your model as an HDF5 file via `model.save()` or `keras.saving.save_model(model)`. This file format is considered legacy. We recommend using instead the native Keras format, e.g. `model.save('my_model.keras')` or `keras.saving.save_model(model, 'my_model.keras')`. \n"
     ]
    },
    {
     "name": "stdout",
     "output_type": "stream",
     "text": [
      "2188/2188 - 116s - 53ms/step - accuracy: 0.7502 - loss: 0.4987 - val_accuracy: 0.7523 - val_loss: 0.4948\n",
      "Epoch 6/10\n"
     ]
    },
    {
     "name": "stderr",
     "output_type": "stream",
     "text": [
      "WARNING:absl:You are saving your model as an HDF5 file via `model.save()` or `keras.saving.save_model(model)`. This file format is considered legacy. We recommend using instead the native Keras format, e.g. `model.save('my_model.keras')` or `keras.saving.save_model(model, 'my_model.keras')`. \n"
     ]
    },
    {
     "name": "stdout",
     "output_type": "stream",
     "text": [
      "2188/2188 - 118s - 54ms/step - accuracy: 0.7530 - loss: 0.4944 - val_accuracy: 0.7549 - val_loss: 0.4922\n",
      "Epoch 7/10\n"
     ]
    },
    {
     "name": "stderr",
     "output_type": "stream",
     "text": [
      "WARNING:absl:You are saving your model as an HDF5 file via `model.save()` or `keras.saving.save_model(model)`. This file format is considered legacy. We recommend using instead the native Keras format, e.g. `model.save('my_model.keras')` or `keras.saving.save_model(model, 'my_model.keras')`. \n"
     ]
    },
    {
     "name": "stdout",
     "output_type": "stream",
     "text": [
      "2188/2188 - 117s - 53ms/step - accuracy: 0.7555 - loss: 0.4907 - val_accuracy: 0.7565 - val_loss: 0.4895\n",
      "Epoch 8/10\n"
     ]
    },
    {
     "name": "stderr",
     "output_type": "stream",
     "text": [
      "WARNING:absl:You are saving your model as an HDF5 file via `model.save()` or `keras.saving.save_model(model)`. This file format is considered legacy. We recommend using instead the native Keras format, e.g. `model.save('my_model.keras')` or `keras.saving.save_model(model, 'my_model.keras')`. \n"
     ]
    },
    {
     "name": "stdout",
     "output_type": "stream",
     "text": [
      "2188/2188 - 118s - 54ms/step - accuracy: 0.7578 - loss: 0.4879 - val_accuracy: 0.7584 - val_loss: 0.4866\n",
      "Epoch 9/10\n"
     ]
    },
    {
     "name": "stderr",
     "output_type": "stream",
     "text": [
      "WARNING:absl:You are saving your model as an HDF5 file via `model.save()` or `keras.saving.save_model(model)`. This file format is considered legacy. We recommend using instead the native Keras format, e.g. `model.save('my_model.keras')` or `keras.saving.save_model(model, 'my_model.keras')`. \n"
     ]
    },
    {
     "name": "stdout",
     "output_type": "stream",
     "text": [
      "2188/2188 - 121s - 55ms/step - accuracy: 0.7592 - loss: 0.4855 - val_accuracy: 0.7596 - val_loss: 0.4849\n",
      "Epoch 10/10\n"
     ]
    },
    {
     "name": "stderr",
     "output_type": "stream",
     "text": [
      "WARNING:absl:You are saving your model as an HDF5 file via `model.save()` or `keras.saving.save_model(model)`. This file format is considered legacy. We recommend using instead the native Keras format, e.g. `model.save('my_model.keras')` or `keras.saving.save_model(model, 'my_model.keras')`. \n"
     ]
    },
    {
     "name": "stdout",
     "output_type": "stream",
     "text": [
      "2188/2188 - 120s - 55ms/step - accuracy: 0.7609 - loss: 0.4832 - val_accuracy: 0.7605 - val_loss: 0.4831\n",
      "\u001b[1m1/1\u001b[0m \u001b[32m━━━━━━━━━━━━━━━━━━━━\u001b[0m\u001b[37m\u001b[0m \u001b[1m0s\u001b[0m 325ms/step\n",
      "Entraînement du modèle LSTM terminé.\n",
      "--- Exécution MLflow 013e9bc88fe3453e947d3dc74bd6b7e8 terminée ---\n"
     ]
    }
   ],
   "source": [
    "# Chemin d'artefact MLflow pour le tokenizer (redéfini pour clarté, mais la valeur est la même)\n",
    "TOKENIZER_ARTIFACT_PATH = \"tokenizer\"\n",
    "# Chemin d'artefact MLflow pour le modèle (redéfini pour clarté, mais la valeur est la même)\n",
    "MODEL_ARTIFACT_PATH = \"model\"\n",
    "\n",
    "# Nom de l'exécution MLflow pour ce modèle spécifique\n",
    "run_name = \"LSTM_Trainable_Embeddings\"\n",
    "\n",
    "print(f\"\\n--- Démarrage de l'exécution MLflow pour : {run_name} ---\")\n",
    "\n",
    "# Activer l'autologging pour TensorFlow/Keras avec MLflow\n",
    "# Cela permet à MLflow de logger automatiquement les paramètres, métriques et modèles\n",
    "mlflow.tensorflow.autolog(\n",
    "    log_models=True,  # Journaliser le modèle entraîné\n",
    "    disable=False,\n",
    "    registered_model_name=None,  # Ne pas enregistrer automatiquement dans le registre de modèles\n",
    ")\n",
    "\n",
    "# Démarrer une nouvelle exécution MLflow\n",
    "with mlflow.start_run(run_name=run_name) as run:\n",
    "    run_id = run.info.run_id\n",
    "    print(f\"ID de l'exécution MLflow (Entraînable) : {run_id}\")\n",
    "\n",
    "    # --- Enregistrer les paramètres de l'expérience ---\n",
    "    mlflow.log_param(\"vocab_size\", actual_vocab_size)\n",
    "    mlflow.log_param(\"max_sequence_length\", MAX_SEQUENCE_LENGTH)\n",
    "    mlflow.log_param(\"embedding_dim\", EMBEDDING_DIM)\n",
    "    mlflow.log_param(\"epochs\", EPOCHS)\n",
    "    mlflow.log_param(\"batch_size\", BATCH_SIZE)\n",
    "    # Architecture décrite ici est plus simple que celle du build_lstm_model (potentielle incohérence)\n",
    "    mlflow.log_param(\"architecture\", \"Input-Embedding-BiLSTM-Dense\")\n",
    "\n",
    "    # --- Construire le modèle ---\n",
    "    # Ici, embedding_matrix est None et is_embedding_trainable est True, donc l'embedding sera entraîné\n",
    "    model = build_lstm_model(\n",
    "        vocab_size=actual_vocab_size,\n",
    "        embedding_dim=EMBEDDING_DIM,\n",
    "        max_length=MAX_SEQUENCE_LENGTH,  # Utiliser MAX_SEQUENCE_LENGTH, pas VOCAB_SIZE\n",
    "        embedding_matrix=None,\n",
    "        is_embedding_trainable=True,\n",
    "    )\n",
    "\n",
    "    # --- Callbacks d'entraînement ---\n",
    "    # Arrêt précoce basé sur la précision de validation\n",
    "    early_stopping = EarlyStopping(\n",
    "        monitor=\"val_accuracy\", patience=3, restore_best_weights=True\n",
    "    )\n",
    "\n",
    "    # --- Entraîner le modèle ---\n",
    "    print(\"\\nEntraînement du modèle LSTM avec embeddings entraînables...\")\n",
    "    history = model.fit(  # Renommé de history_glove à history pour éviter confusion\n",
    "        X_train_pad,\n",
    "        y_train,\n",
    "        epochs=EPOCHS,\n",
    "        batch_size=BATCH_SIZE,\n",
    "        validation_data=(X_val_pad, y_val),\n",
    "        callbacks=[early_stopping],\n",
    "        verbose=2,  # Afficher les logs d'entraînement par époque\n",
    "    )\n",
    "    print(\"Entraînement du modèle LSTM terminé.\")\n",
    "\n",
    "    # --- Sauvegarder et journaliser le tokenizer ---\n",
    "    # Sauvegarder le tokenizer localement\n",
    "    with open(\"./advance_exp_2_tokenizer.pkl\", \"wb\") as f:\n",
    "        pickle.dump(tokenizer, f)\n",
    "    # Journaliser le tokenizer en tant qu'artefact MLflow\n",
    "    mlflow.log_artifact(\n",
    "        \"advance_exp_2_tokenizer.pkl\", artifact_path=TOKENIZER_ARTIFACT_PATH\n",
    "    )\n",
    "\n",
    "    print(f\"--- Exécution MLflow {run_id} terminée ---\")"
   ]
  },
  {
   "cell_type": "markdown",
   "id": "408584bf",
   "metadata": {},
   "source": [
    "---\n",
    "---\n",
    "\n",
    "## <a id='toc6_'></a>[Evaluation et Selection](#toc0_)"
   ]
  },
  {
   "cell_type": "markdown",
   "id": "626a633f",
   "metadata": {},
   "source": [
    "---\n",
    "\n",
    "### <a id='toc6_1_'></a>[Selection du meilleur modèle (val_accuracy)](#toc0_)\n",
    "\n",
    "Cette cellule utilise le client MLflow pour interroger le serveur de suivi et identifier la meilleure exécution (run) de l'expérience actuelle, basée sur la métrique val_accuracy. Elle récupère l'expérience par son nom, puis effectue une recherche parmi toutes les exécutions, en les filtrant pour n'inclure que celles où val_accuracy est supérieure à 0, et en les triant par ordre décroissant de val_accuracy. Le BEST_RUN_ID est ainsi extrait de l'exécution la mieux classée, et des informations sur celle-ci (comme le type d'embedding utilisé) sont affichées. L'objectif est de sélectionner de manière programmatique le modèle le plus performant pour les étapes d'évaluation et de déploiement ultérieures."
   ]
  },
  {
   "cell_type": "code",
   "execution_count": 66,
   "id": "5f310abb",
   "metadata": {},
   "outputs": [
    {
     "name": "stdout",
     "output_type": "stream",
     "text": [
      "Meilleure exécution sélectionnée automatiquement (basée sur val_accuracy) : 62b7b12d38624eb4959f52a64e2d39f4\n",
      "Type de modèle sélectionné : GloVe (Non Entraînable)\n"
     ]
    }
   ],
   "source": [
    "# Initialiser le client MLflow pour interagir avec le serveur de suivi\n",
    "client = mlflow.tracking.MlflowClient()\n",
    "# Récupérer l'objet de l'expérience MLflow par son nom\n",
    "experiment = client.get_experiment_by_name(EXPERIMENT_NAME)\n",
    "\n",
    "# Rechercher les exécutions (runs) de cette expérience\n",
    "runs = client.search_runs(\n",
    "    experiment_ids=experiment.experiment_id,  # Filtrer par l'ID de l'expérience\n",
    "    filter_string=\"metrics.val_accuracy > 0\",  # Filtrer les exécutions avec une accuracy de validation > 0\n",
    "    order_by=[\n",
    "        \"metrics.val_accuracy DESC\"\n",
    "    ],  # Trier par accuracy de validation décroissante\n",
    "    max_results=1,  # Ne récupérer que la meilleure exécution\n",
    ")\n",
    "# Extraire l'ID de la meilleure exécution\n",
    "BEST_RUN_ID = runs[0].info.run_id\n",
    "print(\n",
    "    f\"Meilleure exécution sélectionnée automatiquement (basée sur val_accuracy) : {BEST_RUN_ID}\"\n",
    ")\n",
    "# Afficher le type d'embedding utilisé dans cette meilleure exécution\n",
    "print(f\"Type de modèle sélectionné : {runs[0].data.params.get('type_embedding')}\")"
   ]
  },
  {
   "cell_type": "markdown",
   "id": "d6fbb778",
   "metadata": {},
   "source": [
    "---\n",
    "\n",
    "### <a id='toc6_2_'></a>[Evaluation du modèle sur les données de Test](#toc0_)\n",
    "\n",
    "Cette cellule de code est dédiée à l'évaluation finale du meilleur modèle d'apprentissage automatique identifié précédemment, sur l'ensemble de données de test. Elle commence par charger le modèle sélectionné depuis MLflow, puis calcule et affiche des métriques de performance cruciales telles que la perte, la précision, la précision (precision), le rappel (recall) et le score F1. Un rapport de classification détaillé et une matrice de confusion visuelle sont également générés pour une analyse approfondie des performances. Enfin, toutes ces métriques de test et l'image de la matrice de confusion sont enregistrées en tant qu'artefacts dans l'exécution MLflow correspondante, garantissant ainsi la traçabilité complète des résultats du modèle."
   ]
  },
  {
   "cell_type": "code",
   "execution_count": 64,
   "id": "2eb05de9",
   "metadata": {},
   "outputs": [
    {
     "name": "stdout",
     "output_type": "stream",
     "text": [
      "\n",
      "--- Évaluation du Meilleur Modèle (ID de l'exécution : 62b7b12d38624eb4959f52a64e2d39f4) sur l'ensemble de test ---\n",
      "Meilleur modèle chargé avec succès depuis : runs:/62b7b12d38624eb4959f52a64e2d39f4/model\n",
      "\n",
      "Prédiction sur l'ensemble de test...\n",
      "Perte de test : 0.4831\n",
      "Précision de test : 0.7610\n",
      "\u001b[1m7500/7500\u001b[0m \u001b[32m━━━━━━━━━━━━━━━━━━━━\u001b[0m\u001b[37m\u001b[0m \u001b[1m29s\u001b[0m 4ms/step\n",
      "Précision de test : 0.7454\n",
      "Rappel de test : 0.7927\n",
      "Score F1 de test : 0.7683\n",
      "\n",
      "Rapport de classification (ensemble de test) :\n",
      "              precision    recall  f1-score   support\n",
      "\n",
      "           0       0.78      0.73      0.75    120000\n",
      "           1       0.75      0.79      0.77    120000\n",
      "\n",
      "    accuracy                           0.76    240000\n",
      "   macro avg       0.76      0.76      0.76    240000\n",
      "weighted avg       0.76      0.76      0.76    240000\n",
      "\n",
      "\n",
      "Matrice de confusion (ensemble de test) :\n"
     ]
    },
    {
     "data": {
      "image/png": "[encoded data removed]",
      "text/plain": [
       "<Figure size 600x400 with 2 Axes>"
      ]
     },
     "metadata": {},
     "output_type": "display_data"
    },
    {
     "name": "stdout",
     "output_type": "stream",
     "text": [
      "\n",
      "Métriques de test enregistrées dans l'exécution MLflow sélectionnée.\n"
     ]
    },
    {
     "data": {
      "text/plain": [
       "<Figure size 640x480 with 0 Axes>"
      ]
     },
     "metadata": {},
     "output_type": "display_data"
    }
   ],
   "source": [
    "print(\n",
    "    f\"\\n--- Évaluation du Meilleur Modèle (ID de l'exécution : {BEST_RUN_ID}) sur l'ensemble de test ---\"\n",
    ")\n",
    "\n",
    "# Chargement du meilleur modèle depuis MLflow\n",
    "model_uri = f\"runs:/{BEST_RUN_ID}/{MODEL_ARTIFACT_PATH}\"\n",
    "loaded_model = mlflow.tensorflow.load_model(model_uri)\n",
    "print(f\"Meilleur modèle chargé avec succès depuis : {model_uri}\")\n",
    "\n",
    "print(\"\\nPrédiction sur l'ensemble de test...\")\n",
    "# Évaluation du modèle sur l'ensemble de test pour obtenir la perte et la précision\n",
    "loss, accuracy = loaded_model.evaluate(X_test_pad, y_test, verbose=0)\n",
    "print(f\"Perte de test : {loss:.4f}\")\n",
    "print(f\"Précision de test : {accuracy:.4f}\")\n",
    "\n",
    "# Prédiction des probabilités et conversion en classes binaires (0 ou 1)\n",
    "y_pred_proba = loaded_model.predict(X_test_pad)\n",
    "y_pred = (y_pred_proba > 0.5).astype(int).flatten()\n",
    "\n",
    "# Calcul des métriques de classification (précision, rappel, F1-score)\n",
    "test_precision = precision_score(y_test, y_pred, zero_division=0)\n",
    "test_recall = recall_score(y_test, y_pred, zero_division=0)\n",
    "test_f1 = f1_score(y_test, y_pred, zero_division=0)\n",
    "\n",
    "print(f\"Précision de test : {test_precision:.4f}\")\n",
    "print(f\"Rappel de test : {test_recall:.4f}\")\n",
    "print(f\"Score F1 de test : {test_f1:.4f}\")\n",
    "\n",
    "print(\"\\nRapport de classification (ensemble de test) :\")\n",
    "print(classification_report(y_test, y_pred))\n",
    "\n",
    "print(\"\\nMatrice de confusion (ensemble de test) :\")\n",
    "# Calcul et affichage de la matrice de confusion\n",
    "cm = confusion_matrix(y_test, y_pred)\n",
    "plt.figure(figsize=(6, 4))\n",
    "sns.heatmap(\n",
    "    cm,\n",
    "    annot=True,\n",
    "    fmt=\"d\",\n",
    "    cmap=\"Blues\",\n",
    "    xticklabels=[\"Non-Négatif\", \"Négatif\"],\n",
    "    yticklabels=[\"Non-Négatif\", \"Négatif\"],\n",
    ")\n",
    "plt.xlabel(\"Étiquette Prédite\")\n",
    "plt.ylabel(\"Étiquette Réelle\")\n",
    "plt.title(\"Matrice de Confusion (Ensemble de Test)\")\n",
    "plt.show()\n",
    "\n",
    "# Enregistrement des métriques de test dans l'exécution MLflow\n",
    "client.log_metric(BEST_RUN_ID, \"test_loss\", loss)\n",
    "client.log_metric(BEST_RUN_ID, \"test_accuracy\", accuracy)\n",
    "client.log_metric(BEST_RUN_ID, \"test_precision\", test_precision)\n",
    "client.log_metric(BEST_RUN_ID, \"test_recall\", test_recall)\n",
    "client.log_metric(BEST_RUN_ID, \"test_f1\", test_f1)\n",
    "print(\"\\nMétriques de test enregistrées dans l'exécution MLflow sélectionnée.\")\n",
    "\n",
    "# Sauvegarde et enregistrement de la matrice de confusion en tant qu'artefact MLflow\n",
    "fig_path = \"test_confusion_matrix.png\"\n",
    "plt.savefig(fig_path)\n",
    "client.log_artifact(BEST_RUN_ID, fig_path)\n",
    "# Suppression du fichier local de la figure après l'enregistrement\n",
    "if os.path.exists(fig_path):\n",
    "    os.remove(fig_path)"
   ]
  },
  {
   "cell_type": "markdown",
   "id": "bcd1e419",
   "metadata": {},
   "source": [
    "---\n",
    "\n",
    "### <a id='toc6_3_'></a>[Enregistrement du model](#toc0_)\n",
    "\n",
    "Cette cellule de code a pour objectif d'enregistrer le meilleur modèle entraîné dans le registre de modèles de MLflow sous le nom \"MODEL_ADVANCED\". L'enregistrement permet de versionner le modèle, de le suivre et de gérer son cycle de vie (par exemple, le déploiement en production). Une fois enregistré, les informations clés telles que le nom, la version et le stage actuel du modèle sont affichées."
   ]
  },
  {
   "cell_type": "code",
   "execution_count": 67,
   "id": "40513157",
   "metadata": {},
   "outputs": [
    {
     "name": "stdout",
     "output_type": "stream",
     "text": [
      "Modèle enregistré avec succès :\n",
      "- Nom : MODEL_ADVANCED\n",
      "- Version : 3\n",
      "- Stage : None\n"
     ]
    },
    {
     "name": "stderr",
     "output_type": "stream",
     "text": [
      "Registered model 'MODEL_ADVANCED' already exists. Creating a new version of this model...\n",
      "Created version '3' of model 'MODEL_ADVANCED'.\n"
     ]
    }
   ],
   "source": [
    "# Enregistrement du modèle dans le registre de modèles MLflow\n",
    "# L'URI pointe vers l'artefact \"model\" de la meilleure exécution\n",
    "registered_model_info = mlflow.register_model(\n",
    "    model_uri=f\"runs:/{BEST_RUN_ID}/model\", name=\"MODEL_ADVANCED\"\n",
    ")\n",
    "print(\"Modèle enregistré avec succès :\")\n",
    "print(f\"- Nom : {registered_model_info.name}\")\n",
    "print(f\"- Version : {registered_model_info.version}\")\n",
    "print(f\"- Stage : {registered_model_info.current_stage}\")"
   ]
  },
  {
   "cell_type": "markdown",
   "id": "bd5c9a28",
   "metadata": {},
   "source": [
    "---\n",
    "---\n",
    "\n",
    "## <a id='toc7_'></a>[Dashboard MLFlow](#toc0_)"
   ]
  },
  {
   "cell_type": "code",
   "execution_count": 68,
   "id": "09c7928b",
   "metadata": {},
   "outputs": [
    {
     "name": "stdout",
     "output_type": "stream",
     "text": [
      "^C\n"
     ]
    }
   ],
   "source": [
    "! mlflow server --host 127.0.0.1 --port 8080"
   ]
  },
  {
   "cell_type": "markdown",
   "id": "8350fe3b",
   "metadata": {},
   "source": [
    "![Overview](./mlflow_screenshot/advanced/Overview.png)"
   ]
  },
  {
   "cell_type": "markdown",
   "id": "ffb79a3f",
   "metadata": {},
   "source": [
    "![Metrics](./mlflow_screenshot/advanced/Metrics.png)"
   ]
  }
 ],
 "metadata": {
  "kernelspec": {
   "display_name": ".venv",
   "language": "python",
   "name": "python3"
  },
  "language_info": {
   "codemirror_mode": {
    "name": "ipython",
    "version": 3
   },
   "file_extension": ".py",
   "mimetype": "text/x-python",
   "name": "python",
   "nbconvert_exporter": "python",
   "pygments_lexer": "ipython3",
   "version": "3.10.11"
  }
 },
 "nbformat": 4,
 "nbformat_minor": 5
}
